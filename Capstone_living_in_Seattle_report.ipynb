{
 "cells": [
  {
   "cell_type": "markdown",
   "metadata": {
    "collapsed": true
   },
   "source": [
    "# Capstone Project - The Battle of the Neighborhoods (Week 2)\n",
    "### Applied Data Science Capstone by IBM/Coursera"
   ]
  },
  {
   "cell_type": "markdown",
   "metadata": {},
   "source": [
    "## Table of contents\n",
    "* [Introduction: Business Problem](#introduction)\n",
    "* [Data](#data)\n",
    "* [Methodology](#methodology)\n",
    "* [Analysis](#analysis)\n",
    "* [Results and Discussion](#results)\n",
    "* [Conclusion](#conclusion)"
   ]
  },
  {
   "cell_type": "markdown",
   "metadata": {},
   "source": [
    "\n",
    "\n",
    "## Introduction: Business Problem <a name=\"introduction\"></a>"
   ]
  },
  {
   "cell_type": "markdown",
   "metadata": {},
   "source": [
    "In this project we will try to **find an optimal area for a new comer to settle down in Seattle**Specifically, this report will be targeted to the settlers with their family. Also we weill simply estimate the house price in the proper area to give the settlers *some idea to find a house*.\n",
    "\n",
    "Considering the following factors when picking a new place to live you don't end up wasteing your valuable time and money making a move you will end up regretting. Fist, Safety is a top concern when moving to a new place. Of course, the location with suitable public facilities is necessary. Finally, we hope you can depend on your situation to spend the less money to get a dream house.\n",
    "\n",
    "We will use our data science powers to generate a few results for you to chose the right place."
   ]
  },
  {
   "cell_type": "markdown",
   "metadata": {},
   "source": [
    "## Data <a name=\"data\"></a>"
   ]
  },
  {
   "cell_type": "markdown",
   "metadata": {},
   "source": [
    "Based on definition of our problem, factors that will influence our decission are:\n",
    "* number of crime in the area\n",
    "* number of public facilities such as park and school also with some living commercial facilities.\n",
    "* previous the city house selling data\n",
    "\n",
    "We decided to find the optimal area as blow:\n",
    "* use **the offical Seattle beat data** to divide the city into some segmentation\n",
    "* use **the offical Seattle public facilities location** data and **FourSquare API**to find aproper segmentation\n",
    "* Through the data we cleaned, we visualize the data by **folium and geojson**\n",
    "* use some *data science algorithm* to predict a house price in the area where we pick previously"
   ]
  },
  {
   "cell_type": "markdown",
   "metadata": {},
   "source": [
    "### Crime data clean\n",
    "\n",
    "We filter the [crime data](https://data.seattle.gov/Public-Safety/Crime-Data/4fs7-3vj5) as following rules:\n",
    "\n",
    "1. select the data from 2000 \n",
    "2. selcet the quarter Beat has the lower criminal record "
   ]
  },
  {
   "cell_type": "markdown",
   "metadata": {},
   "source": [
    "#### import the libraries & clean crime data"
   ]
  },
  {
   "cell_type": "code",
   "execution_count": 87,
   "metadata": {},
   "outputs": [
    {
     "name": "stdout",
     "output_type": "stream",
     "text": [
      "ready!\n"
     ]
    }
   ],
   "source": [
    "import requests # library to handle requests\n",
    "import pandas as pd # library for data analsysis\n",
    "import numpy as np # library to handle data in a vectorized manner\n",
    "import random # library for random number generation\n",
    "import folium\n",
    "from geopy.geocoders import Nominatim\n",
    "# libraries for displaying images\n",
    "from IPython.display import Image \n",
    "from IPython.core.display import HTML \n",
    "import geopandas as gpd   \n",
    "# tranforming json file into a pandas dataframe library\n",
    "from pandas.io.json import json_normalize\n",
    "import os\n",
    "print('ready!')"
   ]
  },
  {
   "cell_type": "markdown",
   "metadata": {},
   "source": [
    "Now we import the crime data"
   ]
  },
  {
   "cell_type": "code",
   "execution_count": 88,
   "metadata": {},
   "outputs": [
    {
     "data": {
      "text/html": [
       "<div>\n",
       "<style scoped>\n",
       "    .dataframe tbody tr th:only-of-type {\n",
       "        vertical-align: middle;\n",
       "    }\n",
       "\n",
       "    .dataframe tbody tr th {\n",
       "        vertical-align: top;\n",
       "    }\n",
       "\n",
       "    .dataframe thead th {\n",
       "        text-align: right;\n",
       "    }\n",
       "</style>\n",
       "<table border=\"1\" class=\"dataframe\">\n",
       "  <thead>\n",
       "    <tr style=\"text-align: right;\">\n",
       "      <th></th>\n",
       "      <th>Report Number</th>\n",
       "      <th>Occurred Date</th>\n",
       "      <th>Occurred Time</th>\n",
       "      <th>Reported Date</th>\n",
       "      <th>Reported Time</th>\n",
       "      <th>Crime Subcategory</th>\n",
       "      <th>Primary Offense Description</th>\n",
       "      <th>Precinct</th>\n",
       "      <th>Sector</th>\n",
       "      <th>Beat</th>\n",
       "      <th>Neighborhood</th>\n",
       "    </tr>\n",
       "  </thead>\n",
       "  <tbody>\n",
       "    <tr>\n",
       "      <th>0</th>\n",
       "      <td>20080000465209</td>\n",
       "      <td>12/13/1908</td>\n",
       "      <td>2114.0</td>\n",
       "      <td>12/13/2008</td>\n",
       "      <td>2114.0</td>\n",
       "      <td>DUI</td>\n",
       "      <td>DUI-LIQUOR</td>\n",
       "      <td>EAST</td>\n",
       "      <td>G</td>\n",
       "      <td>G2</td>\n",
       "      <td>CENTRAL AREA/SQUIRE PARK</td>\n",
       "    </tr>\n",
       "    <tr>\n",
       "      <th>1</th>\n",
       "      <td>20100000202011</td>\n",
       "      <td>06/15/1964</td>\n",
       "      <td>0.0</td>\n",
       "      <td>06/15/2010</td>\n",
       "      <td>1031.0</td>\n",
       "      <td>FAMILY OFFENSE-NONVIOLENT</td>\n",
       "      <td>CHILD-OTHER</td>\n",
       "      <td>WEST</td>\n",
       "      <td>Q</td>\n",
       "      <td>Q2</td>\n",
       "      <td>QUEEN ANNE</td>\n",
       "    </tr>\n",
       "    <tr>\n",
       "      <th>2</th>\n",
       "      <td>2012000023437</td>\n",
       "      <td>01/01/1973</td>\n",
       "      <td>0.0</td>\n",
       "      <td>01/25/2012</td>\n",
       "      <td>1048.0</td>\n",
       "      <td>SEX OFFENSE-OTHER</td>\n",
       "      <td>SEXOFF-OTHER</td>\n",
       "      <td>NORTH</td>\n",
       "      <td>N</td>\n",
       "      <td>N2</td>\n",
       "      <td>NORTHGATE</td>\n",
       "    </tr>\n",
       "    <tr>\n",
       "      <th>5</th>\n",
       "      <td>1975000079415</td>\n",
       "      <td>12/16/1975</td>\n",
       "      <td>900.0</td>\n",
       "      <td>12/16/1975</td>\n",
       "      <td>1500.0</td>\n",
       "      <td>BURGLARY-RESIDENTIAL</td>\n",
       "      <td>BURGLARY-FORCE-RES</td>\n",
       "      <td>SOUTH</td>\n",
       "      <td>R</td>\n",
       "      <td>R3</td>\n",
       "      <td>LAKEWOOD/SEWARD PARK</td>\n",
       "    </tr>\n",
       "    <tr>\n",
       "      <th>9</th>\n",
       "      <td>20090000300201</td>\n",
       "      <td>01/01/1978</td>\n",
       "      <td>1.0</td>\n",
       "      <td>08/25/2009</td>\n",
       "      <td>1016.0</td>\n",
       "      <td>SEX OFFENSE-OTHER</td>\n",
       "      <td>SEXOFF-OTHER</td>\n",
       "      <td>SOUTHWEST</td>\n",
       "      <td>W</td>\n",
       "      <td>W1</td>\n",
       "      <td>ALKI</td>\n",
       "    </tr>\n",
       "  </tbody>\n",
       "</table>\n",
       "</div>"
      ],
      "text/plain": [
       "    Report Number Occurred Date  Occurred Time Reported Date  Reported Time  \\\n",
       "0  20080000465209    12/13/1908         2114.0    12/13/2008         2114.0   \n",
       "1  20100000202011    06/15/1964            0.0    06/15/2010         1031.0   \n",
       "2   2012000023437    01/01/1973            0.0    01/25/2012         1048.0   \n",
       "5   1975000079415    12/16/1975          900.0    12/16/1975         1500.0   \n",
       "9  20090000300201    01/01/1978            1.0    08/25/2009         1016.0   \n",
       "\n",
       "           Crime Subcategory Primary Offense Description   Precinct Sector  \\\n",
       "0                        DUI                  DUI-LIQUOR       EAST      G   \n",
       "1  FAMILY OFFENSE-NONVIOLENT                 CHILD-OTHER       WEST      Q   \n",
       "2          SEX OFFENSE-OTHER                SEXOFF-OTHER      NORTH      N   \n",
       "5       BURGLARY-RESIDENTIAL          BURGLARY-FORCE-RES      SOUTH      R   \n",
       "9          SEX OFFENSE-OTHER                SEXOFF-OTHER  SOUTHWEST      W   \n",
       "\n",
       "  Beat              Neighborhood  \n",
       "0   G2  CENTRAL AREA/SQUIRE PARK  \n",
       "1   Q2                QUEEN ANNE  \n",
       "2   N2                 NORTHGATE  \n",
       "5   R3      LAKEWOOD/SEWARD PARK  \n",
       "9   W1                      ALKI  "
      ]
     },
     "execution_count": 88,
     "metadata": {},
     "output_type": "execute_result"
    }
   ],
   "source": [
    "crime = os.path.join('C:/Users/12370/Desktop/data_science/Crime_Data.csv')\n",
    "df = pd.read_csv(crime)\n",
    "df.dropna(inplace = True)\n",
    "df.head()"
   ]
  },
  {
   "cell_type": "markdown",
   "metadata": {},
   "source": [
    "The crime data is from 1970 - 2019. The long time passed records should not to be regarded as reference. So we select the data from **2000**. It pretty matches what we need."
   ]
  },
  {
   "cell_type": "code",
   "execution_count": 89,
   "metadata": {},
   "outputs": [
    {
     "data": {
      "text/plain": [
       "(5585, 11)"
      ]
     },
     "execution_count": 89,
     "metadata": {},
     "output_type": "execute_result"
    }
   ],
   "source": [
    "df_new = df[df['Occurred Date'].str.contains('[0,1][0,9]/[0,3][0,9]/2[0,9]*')]\n",
    "df_new.shape"
   ]
  },
  {
   "cell_type": "markdown",
   "metadata": {},
   "source": [
    "After we filter the data by time. Next we will count the number of criminal record by Beat. And we use the *folium* visualize the sorted crime data by choropleth"
   ]
  },
  {
   "cell_type": "code",
   "execution_count": 90,
   "metadata": {},
   "outputs": [],
   "source": [
    "#count the records by Beat\n",
    "beat = df_new.Beat.value_counts().sort_index()"
   ]
  },
  {
   "cell_type": "code",
   "execution_count": 91,
   "metadata": {},
   "outputs": [],
   "source": [
    "from branca.colormap import linear\n",
    "colormap = linear.YlOrRd_09.scale(\n",
    "    beat.values.min(),\n",
    "    beat.values.max())\n",
    "colormap.caption = 'CRIME_REPORT'\n",
    "color_dict = {key: colormap(beat[key]) for key in beat.index}\n",
    "\n",
    "beat_geo = os.path.join('C:/Users/12370/Desktop/data_science/spd-beats.geojson')"
   ]
  },
  {
   "cell_type": "code",
   "execution_count": 92,
   "metadata": {},
   "outputs": [],
   "source": [
    "from folium.plugins import MarkerCluster\n",
    "map_seattle = folium.Map(location=(47.606209,-122.332069),zoom_start=12)\n",
    "\n",
    "folium.GeoJson(\n",
    "    beat_geo,\n",
    "    name='crime_percentage',\n",
    "    style_function=lambda feature: {\n",
    "        'fillColor': color_dict[feature['properties']['name']],\n",
    "        'color': 'white',\n",
    "        'weight': 1,\n",
    "        'dashArray': '5, 5',\n",
    "        'fillOpacity': 0.8,\n",
    "           \n",
    "    }\n",
    ").add_to(map_seattle)\n",
    "\n",
    "\n",
    "colormap.add_to(map_seattle)\n",
    "folium.LayerControl().add_to(map_seattle)\n",
    "\n",
    "map_seattle.save('crime.html')"
   ]
  },
  {
   "cell_type": "markdown",
   "metadata": {},
   "source": [
    "We want to look up which Beat we prefer to recommend, so we use the ***.describe()*** to pick up our goal area."
   ]
  },
  {
   "cell_type": "code",
   "execution_count": 93,
   "metadata": {},
   "outputs": [
    {
     "data": {
      "text/plain": [
       "count     51.000000\n",
       "mean     109.509804\n",
       "std       31.093004\n",
       "min       46.000000\n",
       "25%       91.500000\n",
       "50%      105.000000\n",
       "75%      129.000000\n",
       "max      199.000000\n",
       "Name: Beat, dtype: float64"
      ]
     },
     "execution_count": 93,
     "metadata": {},
     "output_type": "execute_result"
    }
   ],
   "source": [
    "beat.describe()"
   ]
  },
  {
   "cell_type": "markdown",
   "metadata": {},
   "source": [
    "#### get the goal beat"
   ]
  },
  {
   "cell_type": "markdown",
   "metadata": {},
   "source": [
    "We will take the 25% area as our initial target. So we get *beat_low*"
   ]
  },
  {
   "cell_type": "code",
   "execution_count": 94,
   "metadata": {},
   "outputs": [
    {
     "data": {
      "text/plain": [
       "C1    90\n",
       "C2    72\n",
       "C3    82\n",
       "F1    66\n",
       "F3    85\n",
       "G1    64\n",
       "G3    62\n",
       "N1    77\n",
       "O2    46\n",
       "O3    60\n",
       "Q1    83\n",
       "S2    91\n",
       "W3    80\n",
       "Name: Beat, dtype: int64"
      ]
     },
     "execution_count": 94,
     "metadata": {},
     "output_type": "execute_result"
    }
   ],
   "source": [
    "#filter the Beat \n",
    "beat_low = beat[beat.values<91.5]\n",
    "beat_low"
   ]
  },
  {
   "cell_type": "markdown",
   "metadata": {},
   "source": [
    "Finally,we visualize the *beat_low* area."
   ]
  },
  {
   "cell_type": "code",
   "execution_count": 95,
   "metadata": {},
   "outputs": [],
   "source": [
    "from folium.plugins import MarkerCluster\n",
    "map_seattle = folium.Map(location=(47.606209,-122.332069),zoom_start=12)\n",
    "\n",
    "folium.GeoJson(beat_geo, style_function=lambda feature: {\n",
    "        'fillColor': 'green' if (feature['properties']['name'] == \"C1\" or\n",
    "                                 feature['properties']['name'] == \"C2\" or\\\n",
    "                                 feature['properties']['name'] == \"C3\" or\\\n",
    "                                feature['properties']['name'] == \"F1\" or\\\n",
    "                                feature['properties']['name'] == \"F3\" or\\\n",
    "                                feature['properties']['name'] == \"G1\" or\\\n",
    "                                feature['properties']['name'] == \"G3\" or\\\n",
    "                                feature['properties']['name'] == \"N1\" or\\\n",
    "                                feature['properties']['name'] == \"O2\" or\\\n",
    "                                feature['properties']['name'] == \"O3\" or\\\n",
    "                                feature['properties']['name'] == \"Q1\" or\n",
    "                                feature['properties']['name'] == \"S2\" or\n",
    "                                feature['properties']['name'] == \"W3\"  ) \n",
    "        else '#ffff00',\n",
    "        'color': 'black',\n",
    "        'weight': 2,\n",
    "        'dashArray': '5, 5'\n",
    "    }).add_to(map_seattle)\n",
    "folium.LayerControl().add_to(map_seattle)\n",
    "map_seattle.save('safe.html')"
   ]
  },
  {
   "cell_type": "code",
   "execution_count": 96,
   "metadata": {},
   "outputs": [
    {
     "name": "stdout",
     "output_type": "stream",
     "text": [
      "---The following Neighborhoods are in the green aera---\n",
      " ['BRIGHTON/DUNLAP' 'SOUTH PARK' 'CENTRAL AREA/SQUIRE PARK'\n",
      " 'MADRONA/LESCHI' 'GEORGETOWN' 'CAPITOL HILL' 'MONTLAKE/PORTAGE BAY'\n",
      " 'JUDKINS PARK/NORTH BEACON HILL' 'HIGHLAND PARK' 'SODO' 'MAGNOLIA'\n",
      " 'FIRST HILL' 'ROXHILL/WESTWOOD/ARBOR HEIGHTS' 'RAINIER BEACH'\n",
      " 'PIGEON POINT' 'MADISON PARK' 'MID BEACON HILL' 'MORGAN' 'GREENWOOD'\n",
      " 'BITTERLAKE' 'MILLER PARK' 'BALLARD NORTH' 'NORTH DELRIDGE' 'HIGH POINT'\n",
      " 'FAUNTLEROY SW' 'EASTLAKE - EAST' 'QUEEN ANNE' 'SOUTH DELRIDGE'\n",
      " 'COMMERCIAL DUWAMISH']\n"
     ]
    }
   ],
   "source": [
    "print('---The following Neighborhoods are in the green aera---\\n',df_new.Neighborhood[df_new.Beat.isin(beat_low.index.tolist())].unique()) "
   ]
  },
  {
   "cell_type": "markdown",
   "metadata": {},
   "source": [
    "The green areas are the candidates we should use in the next step."
   ]
  },
  {
   "cell_type": "markdown",
   "metadata": {},
   "source": [
    "### clean park and school data\n",
    "1. We will use the [school ](https://github.com/zzhjiyin/seattle-boundaries-data) to clean the data and visualize them.\n",
    "2. We will use the [park ](https://github.com/zzhjiyin/seattle-boundaries-data) to clean the data and visualize them"
   ]
  },
  {
   "cell_type": "code",
   "execution_count": 97,
   "metadata": {},
   "outputs": [],
   "source": [
    "# import the geo data\n",
    "school_geo = os.path.join('C:/Users/12370/Desktop/data_science/sps_school_site_2015_2016.geojson')\n",
    "park = os.path.join('C:/Users/12370/Desktop/data_science/Seattle_Parks_And_Recreation_Park_Addresses.csv')"
   ]
  },
  {
   "cell_type": "markdown",
   "metadata": {},
   "source": [
    "#### Visualize the park data"
   ]
  },
  {
   "cell_type": "code",
   "execution_count": 98,
   "metadata": {},
   "outputs": [
    {
     "data": {
      "text/plain": [
       "PMAID           int64\n",
       "LocID           int64\n",
       "Name           object\n",
       "Address        object\n",
       "ZIP Code        int64\n",
       "X Coord       float64\n",
       "Y Coord       float64\n",
       "Location 1     object\n",
       "dtype: object"
      ]
     },
     "execution_count": 98,
     "metadata": {},
     "output_type": "execute_result"
    }
   ],
   "source": [
    "df_park = pd.read_csv(park)\n",
    "df_park.dtypes"
   ]
  },
  {
   "cell_type": "code",
   "execution_count": 99,
   "metadata": {},
   "outputs": [],
   "source": [
    "df_park.rename(columns={'X Coord':'Longitude','Y Coord':'Latitude'},inplace=True)"
   ]
  },
  {
   "cell_type": "code",
   "execution_count": 100,
   "metadata": {},
   "outputs": [],
   "source": [
    "map_seattle = folium.Map(location=(47.606209,-122.332069),zoom_start=12)\n",
    "\n",
    "marker_cluster = MarkerCluster(name='park').add_to(map_seattle)\n",
    "# add markers to map\n",
    "for lat, lng, locid, name in zip(df_park['Latitude'], df_park['Longitude'], df_park['LocID'], df_park['Name']):\n",
    "    label = '{}, {}'.format(locid, name)\n",
    "    label = folium.Popup(label, parse_html=True)\n",
    "    folium.Marker(\n",
    "        location=[lat, lng],\n",
    "        popup=label,\n",
    "        icon=folium.Icon(color='green', icon='ok-sign'),\n",
    "        ).add_to(marker_cluster)  \n",
    "map_seattle.save('park.html')"
   ]
  },
  {
   "cell_type": "markdown",
   "metadata": {},
   "source": [
    "Looking good. Let's deal with the schoo data."
   ]
  },
  {
   "cell_type": "markdown",
   "metadata": {},
   "source": [
    "#### Visualize the school data"
   ]
  },
  {
   "cell_type": "code",
   "execution_count": 101,
   "metadata": {},
   "outputs": [
    {
     "data": {
      "text/plain": [
       "{'type': 'Feature',\n",
       " 'id': 1,\n",
       " 'properties': {'PROPERTY_L': 'Jane Addams', 'Status': 'MS'},\n",
       " 'geometry': {'type': 'Point',\n",
       "  'coordinates': [-122.29300902493404, 47.70994486276947]}}"
      ]
     },
     "execution_count": 101,
     "metadata": {},
     "output_type": "execute_result"
    }
   ],
   "source": [
    "# open and read school geojson\n",
    "with open(school_geo,'r')as f:\n",
    "    data = json.load(f)\n",
    "school_data = data['features']\n",
    "school_data[0]"
   ]
  },
  {
   "cell_type": "code",
   "execution_count": 102,
   "metadata": {},
   "outputs": [
    {
     "data": {
      "text/html": [
       "<div>\n",
       "<style scoped>\n",
       "    .dataframe tbody tr th:only-of-type {\n",
       "        vertical-align: middle;\n",
       "    }\n",
       "\n",
       "    .dataframe tbody tr th {\n",
       "        vertical-align: top;\n",
       "    }\n",
       "\n",
       "    .dataframe thead th {\n",
       "        text-align: right;\n",
       "    }\n",
       "</style>\n",
       "<table border=\"1\" class=\"dataframe\">\n",
       "  <thead>\n",
       "    <tr style=\"text-align: right;\">\n",
       "      <th></th>\n",
       "      <th>Name</th>\n",
       "      <th>Status</th>\n",
       "      <th>Latitude</th>\n",
       "      <th>Longitude</th>\n",
       "    </tr>\n",
       "  </thead>\n",
       "  <tbody>\n",
       "  </tbody>\n",
       "</table>\n",
       "</div>"
      ],
      "text/plain": [
       "Empty DataFrame\n",
       "Columns: [Name, Status, Latitude, Longitude]\n",
       "Index: []"
      ]
     },
     "execution_count": 102,
     "metadata": {},
     "output_type": "execute_result"
    }
   ],
   "source": [
    "# define the dataframe columns\n",
    "column_names = ['Name', 'Status', 'Latitude', 'Longitude'] \n",
    "\n",
    "# instantiate the dataframe\n",
    "df_school = pd.DataFrame(columns=column_names)\n",
    "df_school.head()"
   ]
  },
  {
   "cell_type": "markdown",
   "metadata": {},
   "source": [
    "...and let's now dataframe the *school_data*"
   ]
  },
  {
   "cell_type": "code",
   "execution_count": 103,
   "metadata": {},
   "outputs": [
    {
     "data": {
      "text/html": [
       "<div>\n",
       "<style scoped>\n",
       "    .dataframe tbody tr th:only-of-type {\n",
       "        vertical-align: middle;\n",
       "    }\n",
       "\n",
       "    .dataframe tbody tr th {\n",
       "        vertical-align: top;\n",
       "    }\n",
       "\n",
       "    .dataframe thead th {\n",
       "        text-align: right;\n",
       "    }\n",
       "</style>\n",
       "<table border=\"1\" class=\"dataframe\">\n",
       "  <thead>\n",
       "    <tr style=\"text-align: right;\">\n",
       "      <th></th>\n",
       "      <th>Name</th>\n",
       "      <th>Status</th>\n",
       "      <th>Latitude</th>\n",
       "      <th>Longitude</th>\n",
       "    </tr>\n",
       "  </thead>\n",
       "  <tbody>\n",
       "    <tr>\n",
       "      <th>0</th>\n",
       "      <td>Jane Addams</td>\n",
       "      <td>MS</td>\n",
       "      <td>47.709945</td>\n",
       "      <td>-122.293009</td>\n",
       "    </tr>\n",
       "    <tr>\n",
       "      <th>1</th>\n",
       "      <td>Rainier View</td>\n",
       "      <td>ELEM</td>\n",
       "      <td>47.498863</td>\n",
       "      <td>-122.263172</td>\n",
       "    </tr>\n",
       "    <tr>\n",
       "      <th>2</th>\n",
       "      <td>Emerson</td>\n",
       "      <td>ELEM</td>\n",
       "      <td>47.514820</td>\n",
       "      <td>-122.258636</td>\n",
       "    </tr>\n",
       "    <tr>\n",
       "      <th>3</th>\n",
       "      <td>Roxhill</td>\n",
       "      <td>ELEM</td>\n",
       "      <td>47.518053</td>\n",
       "      <td>-122.370558</td>\n",
       "    </tr>\n",
       "    <tr>\n",
       "      <th>4</th>\n",
       "      <td>South Shore K-8</td>\n",
       "      <td>Option ELEM</td>\n",
       "      <td>47.523743</td>\n",
       "      <td>-122.272009</td>\n",
       "    </tr>\n",
       "  </tbody>\n",
       "</table>\n",
       "</div>"
      ],
      "text/plain": [
       "              Name       Status   Latitude   Longitude\n",
       "0      Jane Addams           MS  47.709945 -122.293009\n",
       "1     Rainier View         ELEM  47.498863 -122.263172\n",
       "2          Emerson         ELEM  47.514820 -122.258636\n",
       "3          Roxhill         ELEM  47.518053 -122.370558\n",
       "4  South Shore K-8  Option ELEM  47.523743 -122.272009"
      ]
     },
     "execution_count": 103,
     "metadata": {},
     "output_type": "execute_result"
    }
   ],
   "source": [
    "for data in school_data:\n",
    "    school_name = data['properties']['PROPERTY_L'] \n",
    "    school_status = data['properties']['Status']\n",
    "        \n",
    "    school_latlon = data['geometry']['coordinates']\n",
    "    school_lat = school_latlon[1]\n",
    "    school_lon = school_latlon[0]\n",
    "    \n",
    "    df_school = df_school.append({'Name': school_name,\n",
    "                                          'Status': school_status,\n",
    "                                          'Latitude':school_lat,\n",
    "                                          'Longitude': school_lon}, ignore_index=True)\n",
    "    \n",
    "df_school.head()"
   ]
  },
  {
   "cell_type": "markdown",
   "metadata": {},
   "source": [
    "Ok, we visualize *df_school* and overlay with the *df_park*"
   ]
  },
  {
   "cell_type": "code",
   "execution_count": 104,
   "metadata": {},
   "outputs": [],
   "source": [
    "map_seattle = folium.Map(location=(47.606209,-122.332069),zoom_start=12)\n",
    "\n",
    "marker_cluster = MarkerCluster(name='park').add_to(map_seattle)\n",
    "# add markers to map\n",
    "for lat, lng, locid, name in zip(df_park['Latitude'], df_park['Longitude'], df_park['LocID'], df_park['Name']):\n",
    "    label = '{}, {}'.format(locid, name)\n",
    "    label = folium.Popup(label, parse_html=True)\n",
    "    folium.Marker(\n",
    "        location=[lat, lng],\n",
    "        popup=label,\n",
    "        icon=folium.Icon(color='green', icon='ok-sign'),\n",
    "        ).add_to(marker_cluster)  \n",
    "\n",
    "    \n",
    "    \n",
    "marker_cluster = MarkerCluster(name='school').add_to(map_seattle)\n",
    "# add markers to map\n",
    "for lat, lng, locid, name in zip(df_school['Latitude'], df_school['Longitude'], df_school['Status'], df_school['Name']):\n",
    "    label = '{}, {}'.format(locid, name)\n",
    "    label = folium.Popup(label, parse_html=True)\n",
    "    folium.Marker(\n",
    "        location=[lat, lng],\n",
    "        popup=label,\n",
    "        icon=folium.Icon(color='blue', icon='info-sign'),\n",
    "        ).add_to(marker_cluster)   \n",
    "\n",
    "folium.LayerControl().add_to(map_seattle)   \n",
    "map_seattle.save('park_school.html')"
   ]
  },
  {
   "cell_type": "markdown",
   "metadata": {},
   "source": [
    "### Get the goal area\n",
    "Now that we have our location candidates, let's use *Folium* to pick up the final area.\n",
    "\n",
    "We`re use the map we generated above, By the linear superposition we can see which area is quite suitable. We use the simply formular to get the score: **(school_numbers + park_numbers ) / beat_low_sqr**"
   ]
  },
  {
   "cell_type": "code",
   "execution_count": 105,
   "metadata": {},
   "outputs": [],
   "source": [
    "map_seattle = folium.Map(location=(47.606209,-122.332069),zoom_start=12)\n",
    "\n",
    "# park_layer\n",
    "marker_cluster = MarkerCluster(name='park').add_to(map_seattle)\n",
    "for lat, lng, locid, name in zip(df_park['Latitude'], df_park['Longitude'], df_park['LocID'], df_park['Name']):\n",
    "    label = '{}, {}'.format(locid, name)\n",
    "    label = folium.Popup(label, parse_html=True)\n",
    "    folium.Marker(\n",
    "        location=[lat, lng],\n",
    "        popup=label,\n",
    "        icon=folium.Icon(color='green', icon='ok-sign'),\n",
    "        ).add_to(marker_cluster)  \n",
    "\n",
    "    \n",
    "# school_layer\n",
    "marker_cluster = MarkerCluster(name='school').add_to(map_seattle)\n",
    "# add markers to map\n",
    "for lat, lng, locid, name in zip(df_school['Latitude'], df_school['Longitude'], df_school['Status'], df_school['Name']):\n",
    "    label = '{}, {}'.format(locid, name)\n",
    "    label = folium.Popup(label, parse_html=True)\n",
    "    folium.Marker(\n",
    "        location=[lat, lng],\n",
    "        popup=label,\n",
    "        icon=folium.Icon(color='blue', icon='info-sign'),\n",
    "        ).add_to(marker_cluster)   \n",
    "\n",
    "    \n",
    "#crime_chorpleh_layer\n",
    "folium.GeoJson(beat_geo, style_function=lambda feature: {\n",
    "        'fillColor': 'green' if (feature['properties']['name'] == \"C1\" or\n",
    "                                 feature['properties']['name'] == \"C2\" or\\\n",
    "                                 feature['properties']['name'] == \"C3\" or\\\n",
    "                                feature['properties']['name'] == \"F1\" or\\\n",
    "                                feature['properties']['name'] == \"F3\" or\\\n",
    "                                feature['properties']['name'] == \"G1\" or\\\n",
    "                                feature['properties']['name'] == \"G3\" or\\\n",
    "                                feature['properties']['name'] == \"N1\" or\\\n",
    "                                feature['properties']['name'] == \"O2\" or\\\n",
    "                                feature['properties']['name'] == \"O3\" or\\\n",
    "                                feature['properties']['name'] == \"Q1\" or\n",
    "                                feature['properties']['name'] == \"S2\" or\n",
    "                                feature['properties']['name'] == \"W3\"  ) \n",
    "        else '#ffff00',\n",
    "        'color': 'black',\n",
    "        'weight': 2,\n",
    "        'dashArray': '5, 5'\n",
    "    }).add_to(map_seattle)   \n",
    "folium.LayerControl().add_to(map_seattle)   \n",
    "map_seattle.save('crime_park_school.html')"
   ]
  },
  {
   "cell_type": "code",
   "execution_count": 106,
   "metadata": {},
   "outputs": [],
   "source": [
    "map_seattle = folium.Map(location=(47.606209,-122.332069),zoom_start=12)\n",
    "\n",
    "folium.GeoJson(beat_geo,\n",
    "               name='final_beat',\n",
    "               style_function=lambda feature: {\n",
    "        'fillColor': 'none' if (\n",
    "                                 feature['properties']['name'] == \"C2\"  ) \n",
    "        else 'black',\n",
    "        'color': 'white',\n",
    "        'weight': 2,\n",
    "        'dashArray': '3',\n",
    "     'fillOpacity': 0.8,\n",
    "    }).add_to(map_seattle)\n",
    "\n",
    "map_seattle.save('final.html')"
   ]
  },
  {
   "cell_type": "markdown",
   "metadata": {},
   "source": [
    "So We get the final area **C2** by the formular"
   ]
  },
  {
   "cell_type": "markdown",
   "metadata": {},
   "source": [
    "### Foursquare API use\n",
    "When we comfirm the area,we shoul figure out what and how many shops surrounded. So We use the *Foursquare* to get the answer. In the other hand, We can pick the detail location in the area according to the commercial area."
   ]
  },
  {
   "cell_type": "markdown",
   "metadata": {},
   "source": [
    "#### Define Foursquare Credentials and Version"
   ]
  },
  {
   "cell_type": "code",
   "execution_count": 107,
   "metadata": {},
   "outputs": [
    {
     "name": "stdout",
     "output_type": "stream",
     "text": [
      "Your credentails:\n",
      "CLIENT_ID: 5ESZXISFGD2ZO5NQC0DUKHXTYIT4PQT0U01WQYLD1PLEITLW\n",
      "CLIENT_SECRET:EJFLXNIT4T52K22ZWDJBV0CSMMZCFC2VHKC2XWXAWZXUJAKN\n"
     ]
    }
   ],
   "source": [
    "CLIENT_ID = '5ESZXISFGD2ZO5NQC0DUKHXTYIT4PQT0U01WQYLD1PLEITLW' # your Foursquare ID\n",
    "CLIENT_SECRET = 'EJFLXNIT4T52K22ZWDJBV0CSMMZCFC2VHKC2XWXAWZXUJAKN' # your Foursquare Secret\n",
    "VERSION = '20200210'\n",
    "LIMIT = 30\n",
    "print('Your credentails:')\n",
    "print('CLIENT_ID: ' + CLIENT_ID)\n",
    "print('CLIENT_SECRET:' + CLIENT_SECRET)"
   ]
  },
  {
   "cell_type": "markdown",
   "metadata": {},
   "source": [
    "#### Get the location and get the venues dataframe"
   ]
  },
  {
   "cell_type": "code",
   "execution_count": 108,
   "metadata": {},
   "outputs": [
    {
     "name": "stdout",
     "output_type": "stream",
     "text": [
      "47.6359301 -122.2801963\n"
     ]
    }
   ],
   "source": [
    "address = 'Madison Park, SEATTLE, WA'\n",
    "\n",
    "geolocator = Nominatim(user_agent=\"foursquare_agent\",timeout=3)\n",
    "location = geolocator.geocode(address)\n",
    "latitude = location.latitude\n",
    "longitude = location.longitude\n",
    "print(latitude, longitude)"
   ]
  },
  {
   "cell_type": "code",
   "execution_count": 109,
   "metadata": {},
   "outputs": [],
   "source": [
    "search_query = ''\n",
    "LIMIT = 100\n",
    "radius = 1500\n",
    "url = 'https://api.foursquare.com/v2/venues/explore?&client_id={}&client_secret={}&v={}&ll={},{}&radius={}&limit={}'.format(\n",
    "    CLIENT_ID, \n",
    "    CLIENT_SECRET, \n",
    "    VERSION, \n",
    "    latitude, \n",
    "    longitude, \n",
    "    radius, \n",
    "    LIMIT)\n",
    "results = requests.get(url).json()"
   ]
  },
  {
   "cell_type": "markdown",
   "metadata": {},
   "source": [
    "After that, We clean the data."
   ]
  },
  {
   "cell_type": "code",
   "execution_count": 110,
   "metadata": {},
   "outputs": [
    {
     "data": {
      "text/html": [
       "<div>\n",
       "<style scoped>\n",
       "    .dataframe tbody tr th:only-of-type {\n",
       "        vertical-align: middle;\n",
       "    }\n",
       "\n",
       "    .dataframe tbody tr th {\n",
       "        vertical-align: top;\n",
       "    }\n",
       "\n",
       "    .dataframe thead th {\n",
       "        text-align: right;\n",
       "    }\n",
       "</style>\n",
       "<table border=\"1\" class=\"dataframe\">\n",
       "  <thead>\n",
       "    <tr style=\"text-align: right;\">\n",
       "      <th></th>\n",
       "      <th>name</th>\n",
       "      <th>categories</th>\n",
       "      <th>lat</th>\n",
       "      <th>lng</th>\n",
       "    </tr>\n",
       "  </thead>\n",
       "  <tbody>\n",
       "    <tr>\n",
       "      <th>0</th>\n",
       "      <td>Starbucks</td>\n",
       "      <td>Coffee Shop</td>\n",
       "      <td>47.634098</td>\n",
       "      <td>-122.280780</td>\n",
       "    </tr>\n",
       "    <tr>\n",
       "      <th>1</th>\n",
       "      <td>Madison Park Beach</td>\n",
       "      <td>Beach</td>\n",
       "      <td>47.635854</td>\n",
       "      <td>-122.276765</td>\n",
       "    </tr>\n",
       "    <tr>\n",
       "      <th>2</th>\n",
       "      <td>Madison Kitchen</td>\n",
       "      <td>Café</td>\n",
       "      <td>47.635347</td>\n",
       "      <td>-122.278819</td>\n",
       "    </tr>\n",
       "    <tr>\n",
       "      <th>3</th>\n",
       "      <td>Cactus Madison Park</td>\n",
       "      <td>Mexican Restaurant</td>\n",
       "      <td>47.636196</td>\n",
       "      <td>-122.277686</td>\n",
       "    </tr>\n",
       "    <tr>\n",
       "      <th>4</th>\n",
       "      <td>Bert's Red Apple</td>\n",
       "      <td>Food &amp; Drink Shop</td>\n",
       "      <td>47.634769</td>\n",
       "      <td>-122.279833</td>\n",
       "    </tr>\n",
       "  </tbody>\n",
       "</table>\n",
       "</div>"
      ],
      "text/plain": [
       "                  name          categories        lat         lng\n",
       "0            Starbucks         Coffee Shop  47.634098 -122.280780\n",
       "1   Madison Park Beach               Beach  47.635854 -122.276765\n",
       "2      Madison Kitchen                Café  47.635347 -122.278819\n",
       "3  Cactus Madison Park  Mexican Restaurant  47.636196 -122.277686\n",
       "4     Bert's Red Apple   Food & Drink Shop  47.634769 -122.279833"
      ]
     },
     "execution_count": 110,
     "metadata": {},
     "output_type": "execute_result"
    }
   ],
   "source": [
    "def get_category_type(row):\n",
    "    try:\n",
    "        categories_list = row['categories']\n",
    "    except:\n",
    "        categories_list = row['venue.categories']\n",
    "        \n",
    "    if len(categories_list) == 0:\n",
    "        return None\n",
    "    else:\n",
    "        return categories_list[0]['name']\n",
    "    \n",
    "venues = results['response']['groups'][0]['items']\n",
    "    \n",
    "nearby_venues = json_normalize(venues) # flatten JSON\n",
    "\n",
    "# filter columns\n",
    "filtered_columns = ['venue.name', 'venue.categories', 'venue.location.lat', 'venue.location.lng']\n",
    "nearby_venues =nearby_venues.loc[:, filtered_columns]\n",
    "\n",
    "# filter the category for each row\n",
    "nearby_venues['venue.categories'] = nearby_venues.apply(get_category_type, axis=1)\n",
    "\n",
    "# clean columns\n",
    "nearby_venues.columns = [col.split(\".\")[-1] for col in nearby_venues.columns]\n",
    "\n",
    "nearby_venues.head()"
   ]
  },
  {
   "cell_type": "code",
   "execution_count": 111,
   "metadata": {},
   "outputs": [
    {
     "name": "stdout",
     "output_type": "stream",
     "text": [
      "54 venues were returned by Foursquare.\n"
     ]
    }
   ],
   "source": [
    "print('{} venues were returned by Foursquare.'.format(nearby_venues.shape[0]))"
   ]
  },
  {
   "cell_type": "markdown",
   "metadata": {},
   "source": [
    "Let's now see all the collected result in our area of interest on map, and let's category the results."
   ]
  },
  {
   "cell_type": "code",
   "execution_count": 112,
   "metadata": {},
   "outputs": [
    {
     "data": {
      "text/html": [
       "<div>\n",
       "<style scoped>\n",
       "    .dataframe tbody tr th:only-of-type {\n",
       "        vertical-align: middle;\n",
       "    }\n",
       "\n",
       "    .dataframe tbody tr th {\n",
       "        vertical-align: top;\n",
       "    }\n",
       "\n",
       "    .dataframe thead th {\n",
       "        text-align: right;\n",
       "    }\n",
       "</style>\n",
       "<table border=\"1\" class=\"dataframe\">\n",
       "  <thead>\n",
       "    <tr style=\"text-align: right;\">\n",
       "      <th></th>\n",
       "      <th>name</th>\n",
       "      <th>lat</th>\n",
       "      <th>lng</th>\n",
       "    </tr>\n",
       "    <tr>\n",
       "      <th>categories</th>\n",
       "      <th></th>\n",
       "      <th></th>\n",
       "      <th></th>\n",
       "    </tr>\n",
       "  </thead>\n",
       "  <tbody>\n",
       "    <tr>\n",
       "      <th>American Restaurant</th>\n",
       "      <td>1</td>\n",
       "      <td>1</td>\n",
       "      <td>1</td>\n",
       "    </tr>\n",
       "    <tr>\n",
       "      <th>Bakery</th>\n",
       "      <td>2</td>\n",
       "      <td>2</td>\n",
       "      <td>2</td>\n",
       "    </tr>\n",
       "    <tr>\n",
       "      <th>Bank</th>\n",
       "      <td>2</td>\n",
       "      <td>2</td>\n",
       "      <td>2</td>\n",
       "    </tr>\n",
       "    <tr>\n",
       "      <th>Bar</th>\n",
       "      <td>3</td>\n",
       "      <td>3</td>\n",
       "      <td>3</td>\n",
       "    </tr>\n",
       "    <tr>\n",
       "      <th>Beach</th>\n",
       "      <td>1</td>\n",
       "      <td>1</td>\n",
       "      <td>1</td>\n",
       "    </tr>\n",
       "    <tr>\n",
       "      <th>Bike Trail</th>\n",
       "      <td>1</td>\n",
       "      <td>1</td>\n",
       "      <td>1</td>\n",
       "    </tr>\n",
       "    <tr>\n",
       "      <th>Boat or Ferry</th>\n",
       "      <td>1</td>\n",
       "      <td>1</td>\n",
       "      <td>1</td>\n",
       "    </tr>\n",
       "    <tr>\n",
       "      <th>Botanical Garden</th>\n",
       "      <td>1</td>\n",
       "      <td>1</td>\n",
       "      <td>1</td>\n",
       "    </tr>\n",
       "    <tr>\n",
       "      <th>Café</th>\n",
       "      <td>2</td>\n",
       "      <td>2</td>\n",
       "      <td>2</td>\n",
       "    </tr>\n",
       "    <tr>\n",
       "      <th>Candy Store</th>\n",
       "      <td>1</td>\n",
       "      <td>1</td>\n",
       "      <td>1</td>\n",
       "    </tr>\n",
       "    <tr>\n",
       "      <th>Coffee Shop</th>\n",
       "      <td>1</td>\n",
       "      <td>1</td>\n",
       "      <td>1</td>\n",
       "    </tr>\n",
       "    <tr>\n",
       "      <th>Dry Cleaner</th>\n",
       "      <td>1</td>\n",
       "      <td>1</td>\n",
       "      <td>1</td>\n",
       "    </tr>\n",
       "    <tr>\n",
       "      <th>Food &amp; Drink Shop</th>\n",
       "      <td>1</td>\n",
       "      <td>1</td>\n",
       "      <td>1</td>\n",
       "    </tr>\n",
       "    <tr>\n",
       "      <th>Food Truck</th>\n",
       "      <td>1</td>\n",
       "      <td>1</td>\n",
       "      <td>1</td>\n",
       "    </tr>\n",
       "    <tr>\n",
       "      <th>Garden</th>\n",
       "      <td>3</td>\n",
       "      <td>3</td>\n",
       "      <td>3</td>\n",
       "    </tr>\n",
       "    <tr>\n",
       "      <th>Gas Station</th>\n",
       "      <td>1</td>\n",
       "      <td>1</td>\n",
       "      <td>1</td>\n",
       "    </tr>\n",
       "    <tr>\n",
       "      <th>Golf Course</th>\n",
       "      <td>1</td>\n",
       "      <td>1</td>\n",
       "      <td>1</td>\n",
       "    </tr>\n",
       "    <tr>\n",
       "      <th>Gym</th>\n",
       "      <td>1</td>\n",
       "      <td>1</td>\n",
       "      <td>1</td>\n",
       "    </tr>\n",
       "    <tr>\n",
       "      <th>Ice Cream Shop</th>\n",
       "      <td>1</td>\n",
       "      <td>1</td>\n",
       "      <td>1</td>\n",
       "    </tr>\n",
       "    <tr>\n",
       "      <th>Kids Store</th>\n",
       "      <td>1</td>\n",
       "      <td>1</td>\n",
       "      <td>1</td>\n",
       "    </tr>\n",
       "    <tr>\n",
       "      <th>Lake</th>\n",
       "      <td>2</td>\n",
       "      <td>2</td>\n",
       "      <td>2</td>\n",
       "    </tr>\n",
       "    <tr>\n",
       "      <th>Mexican Restaurant</th>\n",
       "      <td>1</td>\n",
       "      <td>1</td>\n",
       "      <td>1</td>\n",
       "    </tr>\n",
       "    <tr>\n",
       "      <th>Moving Target</th>\n",
       "      <td>1</td>\n",
       "      <td>1</td>\n",
       "      <td>1</td>\n",
       "    </tr>\n",
       "    <tr>\n",
       "      <th>Neighborhood</th>\n",
       "      <td>1</td>\n",
       "      <td>1</td>\n",
       "      <td>1</td>\n",
       "    </tr>\n",
       "    <tr>\n",
       "      <th>Park</th>\n",
       "      <td>3</td>\n",
       "      <td>3</td>\n",
       "      <td>3</td>\n",
       "    </tr>\n",
       "    <tr>\n",
       "      <th>Pizza Place</th>\n",
       "      <td>2</td>\n",
       "      <td>2</td>\n",
       "      <td>2</td>\n",
       "    </tr>\n",
       "    <tr>\n",
       "      <th>Playground</th>\n",
       "      <td>1</td>\n",
       "      <td>1</td>\n",
       "      <td>1</td>\n",
       "    </tr>\n",
       "    <tr>\n",
       "      <th>Scenic Lookout</th>\n",
       "      <td>2</td>\n",
       "      <td>2</td>\n",
       "      <td>2</td>\n",
       "    </tr>\n",
       "    <tr>\n",
       "      <th>Ski Area</th>\n",
       "      <td>1</td>\n",
       "      <td>1</td>\n",
       "      <td>1</td>\n",
       "    </tr>\n",
       "    <tr>\n",
       "      <th>Soccer Field</th>\n",
       "      <td>1</td>\n",
       "      <td>1</td>\n",
       "      <td>1</td>\n",
       "    </tr>\n",
       "    <tr>\n",
       "      <th>Spa</th>\n",
       "      <td>1</td>\n",
       "      <td>1</td>\n",
       "      <td>1</td>\n",
       "    </tr>\n",
       "    <tr>\n",
       "      <th>Sushi Restaurant</th>\n",
       "      <td>1</td>\n",
       "      <td>1</td>\n",
       "      <td>1</td>\n",
       "    </tr>\n",
       "    <tr>\n",
       "      <th>Tea Room</th>\n",
       "      <td>1</td>\n",
       "      <td>1</td>\n",
       "      <td>1</td>\n",
       "    </tr>\n",
       "    <tr>\n",
       "      <th>Tennis Court</th>\n",
       "      <td>1</td>\n",
       "      <td>1</td>\n",
       "      <td>1</td>\n",
       "    </tr>\n",
       "    <tr>\n",
       "      <th>Thai Restaurant</th>\n",
       "      <td>1</td>\n",
       "      <td>1</td>\n",
       "      <td>1</td>\n",
       "    </tr>\n",
       "    <tr>\n",
       "      <th>Tourist Information Center</th>\n",
       "      <td>1</td>\n",
       "      <td>1</td>\n",
       "      <td>1</td>\n",
       "    </tr>\n",
       "    <tr>\n",
       "      <th>Toy / Game Store</th>\n",
       "      <td>1</td>\n",
       "      <td>1</td>\n",
       "      <td>1</td>\n",
       "    </tr>\n",
       "    <tr>\n",
       "      <th>Track</th>\n",
       "      <td>1</td>\n",
       "      <td>1</td>\n",
       "      <td>1</td>\n",
       "    </tr>\n",
       "    <tr>\n",
       "      <th>Trail</th>\n",
       "      <td>2</td>\n",
       "      <td>2</td>\n",
       "      <td>2</td>\n",
       "    </tr>\n",
       "    <tr>\n",
       "      <th>Vegetarian / Vegan Restaurant</th>\n",
       "      <td>1</td>\n",
       "      <td>1</td>\n",
       "      <td>1</td>\n",
       "    </tr>\n",
       "    <tr>\n",
       "      <th>Yoga Studio</th>\n",
       "      <td>1</td>\n",
       "      <td>1</td>\n",
       "      <td>1</td>\n",
       "    </tr>\n",
       "  </tbody>\n",
       "</table>\n",
       "</div>"
      ],
      "text/plain": [
       "                               name  lat  lng\n",
       "categories                                   \n",
       "American Restaurant               1    1    1\n",
       "Bakery                            2    2    2\n",
       "Bank                              2    2    2\n",
       "Bar                               3    3    3\n",
       "Beach                             1    1    1\n",
       "Bike Trail                        1    1    1\n",
       "Boat or Ferry                     1    1    1\n",
       "Botanical Garden                  1    1    1\n",
       "Café                              2    2    2\n",
       "Candy Store                       1    1    1\n",
       "Coffee Shop                       1    1    1\n",
       "Dry Cleaner                       1    1    1\n",
       "Food & Drink Shop                 1    1    1\n",
       "Food Truck                        1    1    1\n",
       "Garden                            3    3    3\n",
       "Gas Station                       1    1    1\n",
       "Golf Course                       1    1    1\n",
       "Gym                               1    1    1\n",
       "Ice Cream Shop                    1    1    1\n",
       "Kids Store                        1    1    1\n",
       "Lake                              2    2    2\n",
       "Mexican Restaurant                1    1    1\n",
       "Moving Target                     1    1    1\n",
       "Neighborhood                      1    1    1\n",
       "Park                              3    3    3\n",
       "Pizza Place                       2    2    2\n",
       "Playground                        1    1    1\n",
       "Scenic Lookout                    2    2    2\n",
       "Ski Area                          1    1    1\n",
       "Soccer Field                      1    1    1\n",
       "Spa                               1    1    1\n",
       "Sushi Restaurant                  1    1    1\n",
       "Tea Room                          1    1    1\n",
       "Tennis Court                      1    1    1\n",
       "Thai Restaurant                   1    1    1\n",
       "Tourist Information Center        1    1    1\n",
       "Toy / Game Store                  1    1    1\n",
       "Track                             1    1    1\n",
       "Trail                             2    2    2\n",
       "Vegetarian / Vegan Restaurant     1    1    1\n",
       "Yoga Studio                       1    1    1"
      ]
     },
     "execution_count": 112,
     "metadata": {},
     "output_type": "execute_result"
    }
   ],
   "source": [
    "nearby_venues.groupby('categories').count()"
   ]
  },
  {
   "cell_type": "markdown",
   "metadata": {},
   "source": [
    "Looking good. So now we have all the commercial results in area within the goal area, We also know this area is much close to the downtown commercial.\n",
    "\n",
    "This concludes the data gathering phase - we're now ready to use this data for analysis to predict the price of the house in the Seattle."
   ]
  },
  {
   "cell_type": "markdown",
   "metadata": {},
   "source": [
    "## Methodology <a name=\"methodology\"></a>"
   ]
  },
  {
   "cell_type": "markdown",
   "metadata": {},
   "source": [
    "In this project we will use the previous house [selling data](https://github.com/zzhjiyin/Seattle_housing_price_regression/blob/master/kc_house_data.csv) to predict the house price.\n",
    "\n",
    "In first step we have collected the required **data: price and type (category) of every sold house in Mardison Park** .\n",
    "\n",
    "Second step in our analysis will be calculation and exploration of '**Multivariable Regression**' across different arttributes of house - we will use **heatmaps** to identify each factor has the influence on the house and focus our attention on those factors.\n",
    "\n",
    "In third and final step we will give some other models to try. In summery, we will do the following steps:\n",
    "* make a datarframe containing the results of all the models\n",
    "* results to look for: R^2, MSE Make it for both training and test sets\n",
    "* Year built,\n",
    "* Whether renovation has been done yet\n",
    "* lot to house ratio"
   ]
  },
  {
   "cell_type": "markdown",
   "metadata": {},
   "source": [
    "## Analysis <a name=\"analysis\"></a>"
   ]
  },
  {
   "cell_type": "code",
   "execution_count": 113,
   "metadata": {},
   "outputs": [],
   "source": [
    "import matplotlib.pyplot as plt\n",
    "import seaborn as sns\n",
    "from sklearn.model_selection import train_test_split\n",
    "from sklearn.model_selection import cross_val_score\n",
    "import sklearn.metrics as metrics\n",
    "import sklearn.linear_model\n",
    "import statsmodels.formula.api as smf"
   ]
  },
  {
   "cell_type": "markdown",
   "metadata": {},
   "source": [
    "Let's perform some basic explanatory data analysis and derive some additional info from our raw data. First let's select the **Madison Park**:"
   ]
  },
  {
   "cell_type": "code",
   "execution_count": 114,
   "metadata": {},
   "outputs": [
    {
     "data": {
      "text/html": [
       "<div>\n",
       "<style scoped>\n",
       "    .dataframe tbody tr th:only-of-type {\n",
       "        vertical-align: middle;\n",
       "    }\n",
       "\n",
       "    .dataframe tbody tr th {\n",
       "        vertical-align: top;\n",
       "    }\n",
       "\n",
       "    .dataframe thead th {\n",
       "        text-align: right;\n",
       "    }\n",
       "</style>\n",
       "<table border=\"1\" class=\"dataframe\">\n",
       "  <thead>\n",
       "    <tr style=\"text-align: right;\">\n",
       "      <th></th>\n",
       "      <th>Unnamed: 0</th>\n",
       "      <th>id</th>\n",
       "      <th>date</th>\n",
       "      <th>price</th>\n",
       "      <th>bedrooms</th>\n",
       "      <th>bathrooms</th>\n",
       "      <th>sqft_living</th>\n",
       "      <th>sqft_lot</th>\n",
       "      <th>floors</th>\n",
       "      <th>waterfront</th>\n",
       "      <th>...</th>\n",
       "      <th>grade</th>\n",
       "      <th>sqft_above</th>\n",
       "      <th>sqft_basement</th>\n",
       "      <th>yr_built</th>\n",
       "      <th>yr_renovated</th>\n",
       "      <th>zipcode</th>\n",
       "      <th>lat</th>\n",
       "      <th>long</th>\n",
       "      <th>sqft_living15</th>\n",
       "      <th>sqft_lot15</th>\n",
       "    </tr>\n",
       "  </thead>\n",
       "  <tbody>\n",
       "    <tr>\n",
       "      <th>0</th>\n",
       "      <td>0</td>\n",
       "      <td>7129300520</td>\n",
       "      <td>20141013T000000</td>\n",
       "      <td>221900.0</td>\n",
       "      <td>3.0</td>\n",
       "      <td>1.00</td>\n",
       "      <td>1180</td>\n",
       "      <td>5650</td>\n",
       "      <td>1.0</td>\n",
       "      <td>0</td>\n",
       "      <td>...</td>\n",
       "      <td>7</td>\n",
       "      <td>1180</td>\n",
       "      <td>0</td>\n",
       "      <td>1955</td>\n",
       "      <td>0</td>\n",
       "      <td>98178</td>\n",
       "      <td>47.5112</td>\n",
       "      <td>-122.257</td>\n",
       "      <td>1340</td>\n",
       "      <td>5650</td>\n",
       "    </tr>\n",
       "    <tr>\n",
       "      <th>1</th>\n",
       "      <td>1</td>\n",
       "      <td>6414100192</td>\n",
       "      <td>20141209T000000</td>\n",
       "      <td>538000.0</td>\n",
       "      <td>3.0</td>\n",
       "      <td>2.25</td>\n",
       "      <td>2570</td>\n",
       "      <td>7242</td>\n",
       "      <td>2.0</td>\n",
       "      <td>0</td>\n",
       "      <td>...</td>\n",
       "      <td>7</td>\n",
       "      <td>2170</td>\n",
       "      <td>400</td>\n",
       "      <td>1951</td>\n",
       "      <td>1991</td>\n",
       "      <td>98125</td>\n",
       "      <td>47.7210</td>\n",
       "      <td>-122.319</td>\n",
       "      <td>1690</td>\n",
       "      <td>7639</td>\n",
       "    </tr>\n",
       "    <tr>\n",
       "      <th>2</th>\n",
       "      <td>2</td>\n",
       "      <td>5631500400</td>\n",
       "      <td>20150225T000000</td>\n",
       "      <td>180000.0</td>\n",
       "      <td>2.0</td>\n",
       "      <td>1.00</td>\n",
       "      <td>770</td>\n",
       "      <td>10000</td>\n",
       "      <td>1.0</td>\n",
       "      <td>0</td>\n",
       "      <td>...</td>\n",
       "      <td>6</td>\n",
       "      <td>770</td>\n",
       "      <td>0</td>\n",
       "      <td>1933</td>\n",
       "      <td>0</td>\n",
       "      <td>98028</td>\n",
       "      <td>47.7379</td>\n",
       "      <td>-122.233</td>\n",
       "      <td>2720</td>\n",
       "      <td>8062</td>\n",
       "    </tr>\n",
       "    <tr>\n",
       "      <th>3</th>\n",
       "      <td>3</td>\n",
       "      <td>2487200875</td>\n",
       "      <td>20141209T000000</td>\n",
       "      <td>604000.0</td>\n",
       "      <td>4.0</td>\n",
       "      <td>3.00</td>\n",
       "      <td>1960</td>\n",
       "      <td>5000</td>\n",
       "      <td>1.0</td>\n",
       "      <td>0</td>\n",
       "      <td>...</td>\n",
       "      <td>7</td>\n",
       "      <td>1050</td>\n",
       "      <td>910</td>\n",
       "      <td>1965</td>\n",
       "      <td>0</td>\n",
       "      <td>98136</td>\n",
       "      <td>47.5208</td>\n",
       "      <td>-122.393</td>\n",
       "      <td>1360</td>\n",
       "      <td>5000</td>\n",
       "    </tr>\n",
       "    <tr>\n",
       "      <th>4</th>\n",
       "      <td>4</td>\n",
       "      <td>1954400510</td>\n",
       "      <td>20150218T000000</td>\n",
       "      <td>510000.0</td>\n",
       "      <td>3.0</td>\n",
       "      <td>2.00</td>\n",
       "      <td>1680</td>\n",
       "      <td>8080</td>\n",
       "      <td>1.0</td>\n",
       "      <td>0</td>\n",
       "      <td>...</td>\n",
       "      <td>8</td>\n",
       "      <td>1680</td>\n",
       "      <td>0</td>\n",
       "      <td>1987</td>\n",
       "      <td>0</td>\n",
       "      <td>98074</td>\n",
       "      <td>47.6168</td>\n",
       "      <td>-122.045</td>\n",
       "      <td>1800</td>\n",
       "      <td>7503</td>\n",
       "    </tr>\n",
       "  </tbody>\n",
       "</table>\n",
       "<p>5 rows × 22 columns</p>\n",
       "</div>"
      ],
      "text/plain": [
       "   Unnamed: 0          id             date     price  bedrooms  bathrooms  \\\n",
       "0           0  7129300520  20141013T000000  221900.0       3.0       1.00   \n",
       "1           1  6414100192  20141209T000000  538000.0       3.0       2.25   \n",
       "2           2  5631500400  20150225T000000  180000.0       2.0       1.00   \n",
       "3           3  2487200875  20141209T000000  604000.0       4.0       3.00   \n",
       "4           4  1954400510  20150218T000000  510000.0       3.0       2.00   \n",
       "\n",
       "   sqft_living  sqft_lot  floors  waterfront  ...  grade  sqft_above  \\\n",
       "0         1180      5650     1.0           0  ...      7        1180   \n",
       "1         2570      7242     2.0           0  ...      7        2170   \n",
       "2          770     10000     1.0           0  ...      6         770   \n",
       "3         1960      5000     1.0           0  ...      7        1050   \n",
       "4         1680      8080     1.0           0  ...      8        1680   \n",
       "\n",
       "   sqft_basement  yr_built  yr_renovated  zipcode      lat     long  \\\n",
       "0              0      1955             0    98178  47.5112 -122.257   \n",
       "1            400      1951          1991    98125  47.7210 -122.319   \n",
       "2              0      1933             0    98028  47.7379 -122.233   \n",
       "3            910      1965             0    98136  47.5208 -122.393   \n",
       "4              0      1987             0    98074  47.6168 -122.045   \n",
       "\n",
       "   sqft_living15  sqft_lot15  \n",
       "0           1340        5650  \n",
       "1           1690        7639  \n",
       "2           2720        8062  \n",
       "3           1360        5000  \n",
       "4           1800        7503  \n",
       "\n",
       "[5 rows x 22 columns]"
      ]
     },
     "execution_count": 114,
     "metadata": {},
     "output_type": "execute_result"
    }
   ],
   "source": [
    "house = os.path.join('C:/Users/12370/Desktop/data_science/kc_house_data_NaN.csv')\n",
    "df = pd.read_csv(house)\n",
    "df.dropna(inplace = True)\n",
    "df.head()"
   ]
  },
  {
   "cell_type": "code",
   "execution_count": 115,
   "metadata": {},
   "outputs": [
    {
     "data": {
      "text/html": [
       "<div>\n",
       "<style scoped>\n",
       "    .dataframe tbody tr th:only-of-type {\n",
       "        vertical-align: middle;\n",
       "    }\n",
       "\n",
       "    .dataframe tbody tr th {\n",
       "        vertical-align: top;\n",
       "    }\n",
       "\n",
       "    .dataframe thead th {\n",
       "        text-align: right;\n",
       "    }\n",
       "</style>\n",
       "<table border=\"1\" class=\"dataframe\">\n",
       "  <thead>\n",
       "    <tr style=\"text-align: right;\">\n",
       "      <th></th>\n",
       "      <th>price</th>\n",
       "      <th>bedrooms</th>\n",
       "      <th>bathrooms</th>\n",
       "      <th>sqft_living</th>\n",
       "      <th>sqft_lot</th>\n",
       "      <th>floors</th>\n",
       "      <th>view</th>\n",
       "      <th>condition</th>\n",
       "      <th>grade</th>\n",
       "      <th>sqft_above</th>\n",
       "      <th>sqft_basement</th>\n",
       "      <th>yr_built</th>\n",
       "      <th>yr_renovated</th>\n",
       "      <th>zipcode</th>\n",
       "      <th>lat</th>\n",
       "      <th>long</th>\n",
       "      <th>sqft_living15</th>\n",
       "      <th>sqft_lot15</th>\n",
       "    </tr>\n",
       "  </thead>\n",
       "  <tbody>\n",
       "    <tr>\n",
       "      <th>27</th>\n",
       "      <td>667000.0</td>\n",
       "      <td>3.0</td>\n",
       "      <td>1.00</td>\n",
       "      <td>1400</td>\n",
       "      <td>1581</td>\n",
       "      <td>1.5</td>\n",
       "      <td>0</td>\n",
       "      <td>5</td>\n",
       "      <td>8</td>\n",
       "      <td>1400</td>\n",
       "      <td>0</td>\n",
       "      <td>1909</td>\n",
       "      <td>0</td>\n",
       "      <td>98112</td>\n",
       "      <td>47.6221</td>\n",
       "      <td>-122.314</td>\n",
       "      <td>1860</td>\n",
       "      <td>3861</td>\n",
       "    </tr>\n",
       "    <tr>\n",
       "      <th>260</th>\n",
       "      <td>780000.0</td>\n",
       "      <td>3.0</td>\n",
       "      <td>1.00</td>\n",
       "      <td>1660</td>\n",
       "      <td>4400</td>\n",
       "      <td>1.5</td>\n",
       "      <td>0</td>\n",
       "      <td>3</td>\n",
       "      <td>8</td>\n",
       "      <td>1460</td>\n",
       "      <td>200</td>\n",
       "      <td>1911</td>\n",
       "      <td>0</td>\n",
       "      <td>98112</td>\n",
       "      <td>47.6362</td>\n",
       "      <td>-122.302</td>\n",
       "      <td>1660</td>\n",
       "      <td>4400</td>\n",
       "    </tr>\n",
       "    <tr>\n",
       "      <th>305</th>\n",
       "      <td>725000.0</td>\n",
       "      <td>3.0</td>\n",
       "      <td>1.75</td>\n",
       "      <td>1920</td>\n",
       "      <td>3300</td>\n",
       "      <td>1.0</td>\n",
       "      <td>0</td>\n",
       "      <td>4</td>\n",
       "      <td>8</td>\n",
       "      <td>960</td>\n",
       "      <td>960</td>\n",
       "      <td>1913</td>\n",
       "      <td>0</td>\n",
       "      <td>98112</td>\n",
       "      <td>47.6239</td>\n",
       "      <td>-122.298</td>\n",
       "      <td>1740</td>\n",
       "      <td>4000</td>\n",
       "    </tr>\n",
       "    <tr>\n",
       "      <th>495</th>\n",
       "      <td>490000.0</td>\n",
       "      <td>2.0</td>\n",
       "      <td>2.50</td>\n",
       "      <td>1230</td>\n",
       "      <td>1391</td>\n",
       "      <td>2.0</td>\n",
       "      <td>0</td>\n",
       "      <td>3</td>\n",
       "      <td>8</td>\n",
       "      <td>870</td>\n",
       "      <td>360</td>\n",
       "      <td>2004</td>\n",
       "      <td>0</td>\n",
       "      <td>98112</td>\n",
       "      <td>47.6192</td>\n",
       "      <td>-122.301</td>\n",
       "      <td>1240</td>\n",
       "      <td>1350</td>\n",
       "    </tr>\n",
       "    <tr>\n",
       "      <th>518</th>\n",
       "      <td>2250000.0</td>\n",
       "      <td>4.0</td>\n",
       "      <td>2.25</td>\n",
       "      <td>4760</td>\n",
       "      <td>8036</td>\n",
       "      <td>2.5</td>\n",
       "      <td>0</td>\n",
       "      <td>5</td>\n",
       "      <td>9</td>\n",
       "      <td>3390</td>\n",
       "      <td>1370</td>\n",
       "      <td>1916</td>\n",
       "      <td>0</td>\n",
       "      <td>98112</td>\n",
       "      <td>47.6415</td>\n",
       "      <td>-122.285</td>\n",
       "      <td>2950</td>\n",
       "      <td>9323</td>\n",
       "    </tr>\n",
       "  </tbody>\n",
       "</table>\n",
       "</div>"
      ],
      "text/plain": [
       "         price  bedrooms  bathrooms  sqft_living  sqft_lot  floors  view  \\\n",
       "27    667000.0       3.0       1.00         1400      1581     1.5     0   \n",
       "260   780000.0       3.0       1.00         1660      4400     1.5     0   \n",
       "305   725000.0       3.0       1.75         1920      3300     1.0     0   \n",
       "495   490000.0       2.0       2.50         1230      1391     2.0     0   \n",
       "518  2250000.0       4.0       2.25         4760      8036     2.5     0   \n",
       "\n",
       "     condition  grade  sqft_above  sqft_basement  yr_built  yr_renovated  \\\n",
       "27           5      8        1400              0      1909             0   \n",
       "260          3      8        1460            200      1911             0   \n",
       "305          4      8         960            960      1913             0   \n",
       "495          3      8         870            360      2004             0   \n",
       "518          5      9        3390           1370      1916             0   \n",
       "\n",
       "     zipcode      lat     long  sqft_living15  sqft_lot15  \n",
       "27     98112  47.6221 -122.314           1860        3861  \n",
       "260    98112  47.6362 -122.302           1660        4400  \n",
       "305    98112  47.6239 -122.298           1740        4000  \n",
       "495    98112  47.6192 -122.301           1240        1350  \n",
       "518    98112  47.6415 -122.285           2950        9323  "
      ]
     },
     "execution_count": 115,
     "metadata": {},
     "output_type": "execute_result"
    }
   ],
   "source": [
    "df.dtypes\n",
    "df.drop(['id', 'date','Unnamed: 0','waterfront'], axis=1, inplace=True)\n",
    "df_house = df[df.zipcode ==98112]\n",
    "df_house.head()"
   ]
  },
  {
   "cell_type": "markdown",
   "metadata": {},
   "source": [
    "OK, now let's visualize the **plots about the relationship bewteen features('sqft_living', 'sqft_lot', 'yr_built') and 'price'** in different methods."
   ]
  },
  {
   "cell_type": "markdown",
   "metadata": {},
   "source": [
    "### Data Exploration"
   ]
  },
  {
   "cell_type": "code",
   "execution_count": 116,
   "metadata": {},
   "outputs": [
    {
     "data": {
      "image/png": "[encoded data removed]",
      "text/plain": [
       "<Figure size 720x720 with 20 Axes>"
      ]
     },
     "metadata": {},
     "output_type": "display_data"
    }
   ],
   "source": [
    "home_info =df_house.loc[:, ('price', 'sqft_living', 'sqft_lot', 'yr_built')]\n",
    "sns.set_style(style='dark')\n",
    "g = sns.PairGrid(home_info, diag_sharey=False)\n",
    "g.map_upper(sns.scatterplot, alpha=.5)\n",
    "g.map_lower(sns.regplot, scatter_kws=dict(alpha=0))\n",
    "g.map_diag(sns.kdeplot, lw=3)\n",
    "plt.show()"
   ]
  },
  {
   "cell_type": "markdown",
   "metadata": {},
   "source": [
    "we plot again by **[df_house['price']>df_house['price'].std()*3**"
   ]
  },
  {
   "cell_type": "code",
   "execution_count": 117,
   "metadata": {},
   "outputs": [
    {
     "data": {
      "text/plain": [
       "(234, 18)"
      ]
     },
     "execution_count": 117,
     "metadata": {},
     "output_type": "execute_result"
    }
   ],
   "source": [
    "drop = df_house.loc[df_house['price']>df_house['price'].std()*3].index\n",
    "df_house = df_house.drop(index=drop)\n",
    "df_house.shape"
   ]
  },
  {
   "cell_type": "code",
   "execution_count": 118,
   "metadata": {},
   "outputs": [],
   "source": [
    "lot_drop = df_house.loc[df_house['sqft_lot']>df_house['sqft_lot'].quantile(.75)].index\n",
    "raw_data = df_house.drop(index=lot_drop)"
   ]
  },
  {
   "cell_type": "code",
   "execution_count": 119,
   "metadata": {},
   "outputs": [
    {
     "data": {
      "image/png": "[encoded data removed]",
      "text/plain": [
       "<Figure size 720x720 with 20 Axes>"
      ]
     },
     "metadata": {},
     "output_type": "display_data"
    }
   ],
   "source": [
    "home_info = df_house.loc[:, ('price', 'sqft_living', 'sqft_lot', 'yr_built')]\n",
    "sns.set_style(style='dark')\n",
    "g = sns.PairGrid(home_info, diag_sharey=False)\n",
    "g.map_upper(sns.scatterplot, alpha=.5)\n",
    "g.map_lower(sns.regplot, scatter_kws=dict(alpha=0))\n",
    "g.map_diag(sns.kdeplot, lw=3)\n",
    "plt.show()"
   ]
  },
  {
   "cell_type": "markdown",
   "metadata": {},
   "source": [
    "plots about the **relationship bewteen features( 'floors','bedrooms', 'bathrooms', 'view', 'condition') and 'price' in boxenplot**."
   ]
  },
  {
   "cell_type": "code",
   "execution_count": 120,
   "metadata": {},
   "outputs": [
    {
     "data": {
      "image/png": "[encoded data removed]",
      "text/plain": [
       "<Figure size 702x360 with 3 Axes>"
      ]
     },
     "metadata": {},
     "output_type": "display_data"
    }
   ],
   "source": [
    "cat = df_house.loc[:, ['price', 'floors','bedrooms', 'bathrooms', 'view', 'condition']]\n",
    "\n",
    "g = sns.PairGrid(cat, y_vars=['price'], x_vars=['floors', 'view', 'condition'], height=5, aspect=.65)\n",
    "g = g.map(sns.boxenplot, color='brown')\n",
    "\n",
    "plt.show()"
   ]
  },
  {
   "cell_type": "code",
   "execution_count": 121,
   "metadata": {},
   "outputs": [
    {
     "data": {
      "image/png": "[encoded data removed]",
      "text/plain": [
       "<Figure size 432x288 with 1 Axes>"
      ]
     },
     "metadata": {},
     "output_type": "display_data"
    },
    {
     "data": {
      "image/png": "[encoded data removed]",
      "text/plain": [
       "<Figure size 720x288 with 1 Axes>"
      ]
     },
     "metadata": {},
     "output_type": "display_data"
    }
   ],
   "source": [
    "sns.boxenplot(df_house['bedrooms'], y=df_house['price'], color='brown')\n",
    "plt.show()\n",
    "plt.figure(figsize=(10,4))\n",
    "sns.boxenplot(df_house['bathrooms'], y=df_house['price'], color='brown', width=.8)\n",
    "plt.show()"
   ]
  },
  {
   "cell_type": "markdown",
   "metadata": {},
   "source": [
    "### Data Preparation"
   ]
  },
  {
   "cell_type": "code",
   "execution_count": 122,
   "metadata": {},
   "outputs": [
    {
     "data": {
      "text/plain": [
       "<matplotlib.axes._subplots.AxesSubplot at 0x1d53e2a94a8>"
      ]
     },
     "execution_count": 122,
     "metadata": {},
     "output_type": "execute_result"
    },
    {
     "data": {
      "image/png": "[encoded data removed]",
      "text/plain": [
       "<Figure size 432x288 with 1 Axes>"
      ]
     },
     "metadata": {},
     "output_type": "display_data"
    }
   ],
   "source": [
    "sns.kdeplot(df_house['price'])"
   ]
  },
  {
   "cell_type": "code",
   "execution_count": 123,
   "metadata": {},
   "outputs": [],
   "source": [
    "df_house['zipcode'] =df_house['zipcode'].astype('object')"
   ]
  },
  {
   "cell_type": "code",
   "execution_count": 124,
   "metadata": {},
   "outputs": [
    {
     "data": {
      "image/png": "[encoded data removed]",
      "text/plain": [
       "<Figure size 432x288 with 1 Axes>"
      ]
     },
     "metadata": {},
     "output_type": "display_data"
    },
    {
     "data": {
      "image/png": "[encoded data removed]",
      "text/plain": [
       "<Figure size 432x288 with 1 Axes>"
      ]
     },
     "metadata": {},
     "output_type": "display_data"
    }
   ],
   "source": [
    "df_house['renovated'] = np.where(df_house['yr_renovated']>0, 1, 0)\n",
    "sns.boxplot(x='renovated', y='price', data=df_house)\n",
    "plt.show()\n",
    "df_house['Basement'] = np.where(df_house['sqft_basement']>0, 1, 0)\n",
    "sns.boxplot(x='Basement', y='price', data=df_house)\n",
    "plt.show()"
   ]
  },
  {
   "cell_type": "markdown",
   "metadata": {},
   "source": [
    "Looks like a few pockets of low restaurant density closest to city center can be found **south, south-east and east from Alexanderplatz**. \n",
    "\n",
    "Let's create another heatmap map showing **heatmap/density of Italian restaurants** only."
   ]
  },
  {
   "cell_type": "code",
   "execution_count": 125,
   "metadata": {},
   "outputs": [],
   "source": [
    "#Remove redundant variables and make a pointer for dummy variables for zipcode\n",
    "dummies = pd.get_dummies(df_house['zipcode'])\n",
    "df_house.drop(['sqft_living15', 'sqft_lot15', 'yr_renovated', 'sqft_above', 'sqft_basement', 'yr_built', 'lat', 'long',\n",
    "               'zipcode'], 1, inplace=True)"
   ]
  },
  {
   "cell_type": "code",
   "execution_count": 126,
   "metadata": {},
   "outputs": [],
   "source": [
    "X = df_house.drop('price', 1)\n",
    "Y = df_house['price']\n",
    "#make dummies for the zipcode\n",
    "X_dummy = pd.concat([X, dummies], axis=1)\n",
    "#Dropping some features that are no longer needed\"\n",
    "colnames = X_dummy.columns"
   ]
  },
  {
   "cell_type": "code",
   "execution_count": 127,
   "metadata": {},
   "outputs": [
    {
     "data": {
      "text/plain": [
       "<matplotlib.axes._subplots.AxesSubplot at 0x1d5307da8d0>"
      ]
     },
     "execution_count": 127,
     "metadata": {},
     "output_type": "execute_result"
    },
    {
     "data": {
      "image/png": "[encoded data removed]",
      "text/plain": [
       "<Figure size 648x432 with 2 Axes>"
      ]
     },
     "metadata": {},
     "output_type": "display_data"
    }
   ],
   "source": [
    "corrmat = df_house.corr()\n",
    "mask = np.zeros_like(corrmat)\n",
    "mask[np.triu_indices_from(mask)] = True\n",
    "plt.figure(figsize=(9,6))\n",
    "sns.heatmap(df_house.corr(), vmin=0, vmax=1, annot=True, mask=mask, cmap='coolwarm')\n",
    "# sqft_living has the highest correlation w price, so we can use that for the simple linear regression"
   ]
  },
  {
   "cell_type": "code",
   "execution_count": 128,
   "metadata": {},
   "outputs": [
    {
     "name": "stdout",
     "output_type": "stream",
     "text": [
      "Correlations of features against Price\n"
     ]
    },
    {
     "data": {
      "text/plain": [
       "price            1.000000\n",
       "sqft_above       0.732953\n",
       "sqft_living      0.732024\n",
       "grade            0.656946\n",
       "sqft_living15    0.556505\n",
       "bathrooms        0.540216\n",
       "bedrooms         0.427490\n",
       "sqft_lot15       0.387457\n",
       "lat              0.344264\n",
       "floors           0.338709\n",
       "sqft_lot         0.318715\n",
       "sqft_basement    0.250948\n",
       "condition        0.211682\n",
       "long             0.129260\n",
       "yr_renovated     0.066402\n",
       "yr_built         0.046563\n",
       "view            -0.119391\n",
       "zipcode               NaN\n",
       "Name: price, dtype: float64"
      ]
     },
     "metadata": {},
     "output_type": "display_data"
    },
    {
     "data": {
      "text/plain": [
       "Index(['price', 'bedrooms', 'bathrooms', 'sqft_living', 'sqft_lot', 'floors',\n",
       "       'view', 'condition', 'grade', 'sqft_above', 'sqft_basement', 'yr_built',\n",
       "       'yr_renovated', 'zipcode', 'lat', 'long', 'sqft_living15',\n",
       "       'sqft_lot15'],\n",
       "      dtype='object')"
      ]
     },
     "execution_count": 128,
     "metadata": {},
     "output_type": "execute_result"
    }
   ],
   "source": [
    "print(\"Correlations of features against Price\")\n",
    "display(raw_data.corr().iloc[:, 0].sort_values(ascending=False))\n",
    "raw_data.columns\n",
    "#sqft a good candidate for a simple linear regression"
   ]
  },
  {
   "cell_type": "markdown",
   "metadata": {},
   "source": [
    "#### PCA for colinear features"
   ]
  },
  {
   "cell_type": "code",
   "execution_count": 129,
   "metadata": {},
   "outputs": [],
   "source": [
    "from sklearn.preprocessing import StandardScaler\n",
    "df_pca = X.loc[:, ['sqft_living', 'grade', 'bedrooms', 'bathrooms', 'floors']]\n",
    "scalar = StandardScaler(with_mean=True, with_std=True)\n",
    "scalar = scalar.fit_transform(df_pca)"
   ]
  },
  {
   "cell_type": "code",
   "execution_count": 130,
   "metadata": {},
   "outputs": [],
   "source": [
    "from sklearn.decomposition import PCA\n",
    "pca = PCA(n_components=1)\n",
    "principal_comp = pca.fit_transform(scalar)\n",
    "\n",
    "df_components = pd.DataFrame(principal_comp, index=X.index, columns=['Living Quality'])"
   ]
  },
  {
   "cell_type": "code",
   "execution_count": 131,
   "metadata": {},
   "outputs": [],
   "source": [
    "X_ = pd.concat([df_components, X], 1)\n",
    "X_dummy_pca = pd.concat([df_components, X_dummy], 1)\n",
    "X_.drop(['sqft_living', 'grade', 'bedrooms', 'bathrooms', 'floors'], axis=1, inplace=True)\n",
    "X_dummy_pca.drop(['sqft_living', 'grade', 'bedrooms', 'bathrooms', 'floors'], axis=1, inplace=True)"
   ]
  },
  {
   "cell_type": "code",
   "execution_count": 132,
   "metadata": {},
   "outputs": [
    {
     "data": {
      "text/plain": [
       "<matplotlib.axes._subplots.AxesSubplot at 0x1d5307b86a0>"
      ]
     },
     "execution_count": 132,
     "metadata": {},
     "output_type": "execute_result"
    },
    {
     "data": {
      "image/png": "[encoded data removed]",
      "text/plain": [
       "<Figure size 432x288 with 2 Axes>"
      ]
     },
     "metadata": {},
     "output_type": "display_data"
    }
   ],
   "source": [
    "X_pca = pd.concat([raw_data['price'], X_], 1)\n",
    "corrmat = X_pca.corr()\n",
    "mask = np.zeros_like(corrmat)\n",
    "mask[np.triu_indices_from(mask)] = True\n",
    "sns.heatmap(X_pca.corr(), vmin=0, vmax=1, mask=mask, annot=True, cmap='coolwarm')"
   ]
  },
  {
   "cell_type": "markdown",
   "metadata": {},
   "source": [
    "### Center predictor variables so we can have a more robust linear model"
   ]
  },
  {
   "cell_type": "code",
   "execution_count": 133,
   "metadata": {},
   "outputs": [],
   "source": [
    "scalar = StandardScaler(with_mean=True, with_std=True)\n",
    "scaled = scalar.fit_transform(X) #for lasso and the basic regression on non-PCA features\n",
    "scaled_df = pd.DataFrame(scaled, index=X.index, columns=X.columns)\n",
    "\n",
    "X_scaled = pd.concat([scaled_df, dummies], 1) #final dataframe that we will use\n",
    "#standardize features so that any extreme values in features are accounted for and coefficients are more interpretable"
   ]
  },
  {
   "cell_type": "code",
   "execution_count": 134,
   "metadata": {},
   "outputs": [
    {
     "name": "stdout",
     "output_type": "stream",
     "text": [
      "Original features scaled:\n"
     ]
    },
    {
     "data": {
      "text/html": [
       "<div>\n",
       "<style scoped>\n",
       "    .dataframe tbody tr th:only-of-type {\n",
       "        vertical-align: middle;\n",
       "    }\n",
       "\n",
       "    .dataframe tbody tr th {\n",
       "        vertical-align: top;\n",
       "    }\n",
       "\n",
       "    .dataframe thead th {\n",
       "        text-align: right;\n",
       "    }\n",
       "</style>\n",
       "<table border=\"1\" class=\"dataframe\">\n",
       "  <thead>\n",
       "    <tr style=\"text-align: right;\">\n",
       "      <th></th>\n",
       "      <th>bedrooms</th>\n",
       "      <th>bathrooms</th>\n",
       "      <th>sqft_living</th>\n",
       "      <th>sqft_lot</th>\n",
       "      <th>floors</th>\n",
       "      <th>view</th>\n",
       "      <th>condition</th>\n",
       "      <th>grade</th>\n",
       "      <th>renovated</th>\n",
       "      <th>Basement</th>\n",
       "      <th>98112</th>\n",
       "    </tr>\n",
       "  </thead>\n",
       "  <tbody>\n",
       "    <tr>\n",
       "      <th>27</th>\n",
       "      <td>-0.359231</td>\n",
       "      <td>-1.499025</td>\n",
       "      <td>-1.014500</td>\n",
       "      <td>-1.513300</td>\n",
       "      <td>-0.527129</td>\n",
       "      <td>-0.237743</td>\n",
       "      <td>2.135945</td>\n",
       "      <td>-0.190709</td>\n",
       "      <td>-0.361158</td>\n",
       "      <td>-1.348806</td>\n",
       "      <td>1</td>\n",
       "    </tr>\n",
       "    <tr>\n",
       "      <th>260</th>\n",
       "      <td>-0.359231</td>\n",
       "      <td>-1.499025</td>\n",
       "      <td>-0.687247</td>\n",
       "      <td>0.079204</td>\n",
       "      <td>-0.527129</td>\n",
       "      <td>-0.237743</td>\n",
       "      <td>-0.633092</td>\n",
       "      <td>-0.190709</td>\n",
       "      <td>-0.361158</td>\n",
       "      <td>0.741397</td>\n",
       "      <td>1</td>\n",
       "    </tr>\n",
       "    <tr>\n",
       "      <th>305</th>\n",
       "      <td>-0.359231</td>\n",
       "      <td>-0.561132</td>\n",
       "      <td>-0.359994</td>\n",
       "      <td>-0.542206</td>\n",
       "      <td>-1.490785</td>\n",
       "      <td>-0.237743</td>\n",
       "      <td>0.751427</td>\n",
       "      <td>-0.190709</td>\n",
       "      <td>-0.361158</td>\n",
       "      <td>0.741397</td>\n",
       "      <td>1</td>\n",
       "    </tr>\n",
       "    <tr>\n",
       "      <th>495</th>\n",
       "      <td>-1.325440</td>\n",
       "      <td>0.376760</td>\n",
       "      <td>-1.228473</td>\n",
       "      <td>-1.620634</td>\n",
       "      <td>0.436528</td>\n",
       "      <td>-0.237743</td>\n",
       "      <td>-0.633092</td>\n",
       "      <td>-0.190709</td>\n",
       "      <td>-0.361158</td>\n",
       "      <td>0.741397</td>\n",
       "      <td>1</td>\n",
       "    </tr>\n",
       "    <tr>\n",
       "      <th>754</th>\n",
       "      <td>-0.359231</td>\n",
       "      <td>-0.561132</td>\n",
       "      <td>-1.052260</td>\n",
       "      <td>-0.231501</td>\n",
       "      <td>-1.490785</td>\n",
       "      <td>-0.237743</td>\n",
       "      <td>2.135945</td>\n",
       "      <td>-1.140196</td>\n",
       "      <td>2.768875</td>\n",
       "      <td>0.741397</td>\n",
       "      <td>1</td>\n",
       "    </tr>\n",
       "  </tbody>\n",
       "</table>\n",
       "</div>"
      ],
      "text/plain": [
       "     bedrooms  bathrooms  sqft_living  sqft_lot    floors      view  \\\n",
       "27  -0.359231  -1.499025    -1.014500 -1.513300 -0.527129 -0.237743   \n",
       "260 -0.359231  -1.499025    -0.687247  0.079204 -0.527129 -0.237743   \n",
       "305 -0.359231  -0.561132    -0.359994 -0.542206 -1.490785 -0.237743   \n",
       "495 -1.325440   0.376760    -1.228473 -1.620634  0.436528 -0.237743   \n",
       "754 -0.359231  -0.561132    -1.052260 -0.231501 -1.490785 -0.237743   \n",
       "\n",
       "     condition     grade  renovated  Basement  98112  \n",
       "27    2.135945 -0.190709  -0.361158 -1.348806      1  \n",
       "260  -0.633092 -0.190709  -0.361158  0.741397      1  \n",
       "305   0.751427 -0.190709  -0.361158  0.741397      1  \n",
       "495  -0.633092 -0.190709  -0.361158  0.741397      1  \n",
       "754   2.135945 -1.140196   2.768875  0.741397      1  "
      ]
     },
     "metadata": {},
     "output_type": "display_data"
    }
   ],
   "source": [
    "print('Original features scaled:')\n",
    "display(X_scaled.head())"
   ]
  },
  {
   "cell_type": "markdown",
   "metadata": {},
   "source": [
    "#### Simple Linear Regression\n"
   ]
  },
  {
   "cell_type": "code",
   "execution_count": 135,
   "metadata": {},
   "outputs": [],
   "source": [
    "# First, we make a dataframe to hold the results of our evaluations\n",
    "evaluation = pd.DataFrame(index=np.arange(0,4),\n",
    "                          columns=['Model', 'Mean Absolute Error (MAE)', 'CrossVal Score (avg)', 'CrossVal variance'])\n"
   ]
  },
  {
   "cell_type": "code",
   "execution_count": 136,
   "metadata": {},
   "outputs": [
    {
     "name": "stdout",
     "output_type": "stream",
     "text": [
      "\n",
      "20% holdout test score: \n",
      " 0.3048855342814135\n",
      "\n",
      "Intercept:\n",
      "169059.24130541517\n",
      "\n",
      "Coefficients:\n",
      "[330.53393678]\n"
     ]
    }
   ],
   "source": [
    "from sklearn.linear_model import LinearRegression\n",
    "simple_X = df_house.loc[:, 'sqft_living'].values.reshape(-1,1)\n",
    "X_train, X_test, Y_train, Y_test = train_test_split(simple_X, Y, test_size=.2, random_state=10)\n",
    "lr = LinearRegression(fit_intercept=True)\n",
    "#Using the sqft_living as the feature as it correlates the most with price\n",
    "lr.fit(X_train, Y_train)\n",
    "\n",
    "pearson_test = lr.score(X_test, Y_test)\n",
    "print(\"\\n20% holdout test score: \\n\", pearson_test)\n",
    "print('\\nIntercept:')\n",
    "print(lr.intercept_)\n",
    "print('\\nCoefficients:')\n",
    "print(lr.coef_)\n",
    "mae = format(metrics.mean_absolute_error(Y_test, lr.predict(X_test)), '.3f')"
   ]
  },
  {
   "cell_type": "code",
   "execution_count": 137,
   "metadata": {},
   "outputs": [
    {
     "data": {
      "text/plain": [
       "array([0.62659165, 0.64490037, 0.50691942, 0.52224148, 0.46067546,\n",
       "       0.5124634 , 0.69146794, 0.05488113, 0.53559564, 0.87791755])"
      ]
     },
     "execution_count": 137,
     "metadata": {},
     "output_type": "execute_result"
    }
   ],
   "source": [
    "simple_cross = cross_val_score(lr, simple_X, Y, cv=10)\n",
    "simple_cross"
   ]
  },
  {
   "cell_type": "code",
   "execution_count": 138,
   "metadata": {},
   "outputs": [
    {
     "data": {
      "text/html": [
       "<div>\n",
       "<style scoped>\n",
       "    .dataframe tbody tr th:only-of-type {\n",
       "        vertical-align: middle;\n",
       "    }\n",
       "\n",
       "    .dataframe tbody tr th {\n",
       "        vertical-align: top;\n",
       "    }\n",
       "\n",
       "    .dataframe thead th {\n",
       "        text-align: right;\n",
       "    }\n",
       "</style>\n",
       "<table border=\"1\" class=\"dataframe\">\n",
       "  <thead>\n",
       "    <tr style=\"text-align: right;\">\n",
       "      <th></th>\n",
       "      <th>Model</th>\n",
       "      <th>Mean Absolute Error (MAE)</th>\n",
       "      <th>CrossVal Score (avg)</th>\n",
       "      <th>CrossVal variance</th>\n",
       "    </tr>\n",
       "  </thead>\n",
       "  <tbody>\n",
       "    <tr>\n",
       "      <th>0</th>\n",
       "      <td>Simple Linear Model</td>\n",
       "      <td>210970.861</td>\n",
       "      <td>0.543365</td>\n",
       "      <td>0.199835</td>\n",
       "    </tr>\n",
       "    <tr>\n",
       "      <th>1</th>\n",
       "      <td>NaN</td>\n",
       "      <td>NaN</td>\n",
       "      <td>NaN</td>\n",
       "      <td>NaN</td>\n",
       "    </tr>\n",
       "    <tr>\n",
       "      <th>2</th>\n",
       "      <td>NaN</td>\n",
       "      <td>NaN</td>\n",
       "      <td>NaN</td>\n",
       "      <td>NaN</td>\n",
       "    </tr>\n",
       "    <tr>\n",
       "      <th>3</th>\n",
       "      <td>NaN</td>\n",
       "      <td>NaN</td>\n",
       "      <td>NaN</td>\n",
       "      <td>NaN</td>\n",
       "    </tr>\n",
       "  </tbody>\n",
       "</table>\n",
       "</div>"
      ],
      "text/plain": [
       "                 Model Mean Absolute Error (MAE) CrossVal Score (avg)  \\\n",
       "0  Simple Linear Model                210970.861             0.543365   \n",
       "1                  NaN                       NaN                  NaN   \n",
       "2                  NaN                       NaN                  NaN   \n",
       "3                  NaN                       NaN                  NaN   \n",
       "\n",
       "  CrossVal variance  \n",
       "0          0.199835  \n",
       "1               NaN  \n",
       "2               NaN  \n",
       "3               NaN  "
      ]
     },
     "execution_count": 138,
     "metadata": {},
     "output_type": "execute_result"
    }
   ],
   "source": [
    "evaluation.iloc[0] = ['Simple Linear Model', mae, simple_cross.mean(), simple_cross.std()]\n",
    "evaluation"
   ]
  },
  {
   "cell_type": "markdown",
   "metadata": {},
   "source": [
    "#### Use all features"
   ]
  },
  {
   "cell_type": "code",
   "execution_count": 139,
   "metadata": {},
   "outputs": [
    {
     "name": "stdout",
     "output_type": "stream",
     "text": [
      "20% sample test score:  0.5696096102389976\n",
      "\n",
      "Intercept:  -756304.3165082515\n",
      "\n",
      "Coefficients:  [ 4.98755904e+03  3.77423312e+03  1.96483436e+02  3.18329107e+01\n",
      " -2.73934344e+04 -2.96274205e+04  4.30370910e+04  1.24055056e+05\n",
      "  3.23474557e+04 -4.79358648e+04  0.00000000e+00]\n",
      "\n",
      "Mean Absolute Error:  171711.148\n"
     ]
    }
   ],
   "source": [
    "X_train, X_test, Y_train, Y_test = train_test_split(X_dummy, Y, test_size=.2, random_state=123)\n",
    "full_lr = LinearRegression(fit_intercept=True) #We normalized the data, so no intercept needed\n",
    "full_lr.fit(X_train, Y_train)\n",
    "\n",
    "print(\"20% sample test score: \", full_lr.score(X_test, Y_test))\n",
    "print(\"\\nIntercept: \", full_lr.intercept_)\n",
    "print(\"\\nCoefficients: \", full_lr.coef_)\n",
    "mae = format(metrics.mean_absolute_error(Y_test, full_lr.predict(X_test)), '.3f')\n",
    "print(\"\\nMean Absolute Error: \", mae)\n",
    "#multicollinearity can explain why some of these coefficients are negative"
   ]
  },
  {
   "cell_type": "code",
   "execution_count": 140,
   "metadata": {},
   "outputs": [
    {
     "data": {
      "text/plain": [
       "array([0.77108827, 0.77529907, 0.44412283, 0.69505068, 0.51118829,\n",
       "       0.70824685, 0.62576252, 0.5237275 , 0.70305706, 0.9133484 ])"
      ]
     },
     "execution_count": 140,
     "metadata": {},
     "output_type": "execute_result"
    }
   ],
   "source": [
    "multi_cross = cross_val_score(full_lr, X_dummy, Y, cv=10)\n",
    "multi_cross"
   ]
  },
  {
   "cell_type": "code",
   "execution_count": 141,
   "metadata": {},
   "outputs": [
    {
     "data": {
      "image/png": "[encoded data removed]",
      "text/plain": [
       "<Figure size 720x360 with 1 Axes>"
      ]
     },
     "metadata": {},
     "output_type": "display_data"
    }
   ],
   "source": [
    "predicted = full_lr.predict(X_dummy)\n",
    "residual = Y - predicted\n",
    "plt.figure(figsize=(10,5))\n",
    "plt.scatter(predicted, residual)\n",
    "plt.xlabel(\"Predicted\")\n",
    "plt.ylabel(\"Residual\")\n",
    "plt.title(\"Spread of Model Error\")\n",
    "#plt.ylim([-5,10])\n",
    "plt.show()\n",
    "#Error distribution is not even, so a better model is needed"
   ]
  },
  {
   "cell_type": "code",
   "execution_count": 142,
   "metadata": {},
   "outputs": [
    {
     "data": {
      "image/png": "[encoded data removed]",
      "text/plain": [
       "<Figure size 432x288 with 1 Axes>"
      ]
     },
     "metadata": {},
     "output_type": "display_data"
    }
   ],
   "source": [
    "plt.hist(residual)\n",
    "plt.xlabel(\"Residual\")\n",
    "plt.show()"
   ]
  },
  {
   "cell_type": "code",
   "execution_count": 143,
   "metadata": {},
   "outputs": [
    {
     "data": {
      "text/html": [
       "<div>\n",
       "<style scoped>\n",
       "    .dataframe tbody tr th:only-of-type {\n",
       "        vertical-align: middle;\n",
       "    }\n",
       "\n",
       "    .dataframe tbody tr th {\n",
       "        vertical-align: top;\n",
       "    }\n",
       "\n",
       "    .dataframe thead th {\n",
       "        text-align: right;\n",
       "    }\n",
       "</style>\n",
       "<table border=\"1\" class=\"dataframe\">\n",
       "  <thead>\n",
       "    <tr style=\"text-align: right;\">\n",
       "      <th></th>\n",
       "      <th>Model</th>\n",
       "      <th>Mean Absolute Error (MAE)</th>\n",
       "      <th>CrossVal Score (avg)</th>\n",
       "      <th>CrossVal variance</th>\n",
       "    </tr>\n",
       "  </thead>\n",
       "  <tbody>\n",
       "    <tr>\n",
       "      <th>0</th>\n",
       "      <td>Simple Linear Model</td>\n",
       "      <td>210970.861</td>\n",
       "      <td>0.543365</td>\n",
       "      <td>0.199835</td>\n",
       "    </tr>\n",
       "    <tr>\n",
       "      <th>1</th>\n",
       "      <td>Multivariable Regression (non-PCA)</td>\n",
       "      <td>171711.148</td>\n",
       "      <td>0.667089</td>\n",
       "      <td>0.135358</td>\n",
       "    </tr>\n",
       "    <tr>\n",
       "      <th>2</th>\n",
       "      <td>NaN</td>\n",
       "      <td>NaN</td>\n",
       "      <td>NaN</td>\n",
       "      <td>NaN</td>\n",
       "    </tr>\n",
       "    <tr>\n",
       "      <th>3</th>\n",
       "      <td>NaN</td>\n",
       "      <td>NaN</td>\n",
       "      <td>NaN</td>\n",
       "      <td>NaN</td>\n",
       "    </tr>\n",
       "  </tbody>\n",
       "</table>\n",
       "</div>"
      ],
      "text/plain": [
       "                                Model Mean Absolute Error (MAE)  \\\n",
       "0                 Simple Linear Model                210970.861   \n",
       "1  Multivariable Regression (non-PCA)                171711.148   \n",
       "2                                 NaN                       NaN   \n",
       "3                                 NaN                       NaN   \n",
       "\n",
       "  CrossVal Score (avg) CrossVal variance  \n",
       "0             0.543365          0.199835  \n",
       "1             0.667089          0.135358  \n",
       "2                  NaN               NaN  \n",
       "3                  NaN               NaN  "
      ]
     },
     "execution_count": 143,
     "metadata": {},
     "output_type": "execute_result"
    }
   ],
   "source": [
    "evaluation.iloc[1] = ['Multivariable Regression (non-PCA)', mae, multi_cross.mean(), multi_cross.std()]\n",
    "evaluation"
   ]
  },
  {
   "cell_type": "markdown",
   "metadata": {},
   "source": [
    "#### Multiple Variable Regression with PCA"
   ]
  },
  {
   "cell_type": "code",
   "execution_count": 144,
   "metadata": {},
   "outputs": [
    {
     "name": "stdout",
     "output_type": "stream",
     "text": [
      "20% sample test score:  0.47840630417571295\n",
      "\n",
      "Intercept:  408243.4835132467\n",
      "\n",
      "Coefficients:  [ 1.28247710e+05  6.07332953e+01 -7.76140688e+04  6.66607779e+04\n",
      "  3.25415681e+04  1.49607827e+04  0.00000000e+00]\n",
      "\n",
      "Mean Squared Error:  194007.743\n"
     ]
    },
    {
     "data": {
      "text/plain": [
       "Index(['Living Quality',       'sqft_lot',           'view',      'condition',\n",
       "            'renovated',       'Basement',            98112],\n",
       "      dtype='object')"
      ]
     },
     "execution_count": 144,
     "metadata": {},
     "output_type": "execute_result"
    }
   ],
   "source": [
    "X_train, X_test, Y_train, Y_test = train_test_split(X_dummy_pca, Y, test_size=.2, random_state=10)\n",
    "comp_lr = LinearRegression(fit_intercept=True)\n",
    "comp_lr.fit(X_train, Y_train)\n",
    "pearson_test = comp_lr.score(X_test, Y_test)\n",
    "print(\"20% sample test score: \", pearson_test)\n",
    "print(\"\\nIntercept: \", comp_lr.intercept_)\n",
    "print(\"\\nCoefficients: \", comp_lr.coef_)\n",
    "mae = format(metrics.mean_absolute_error(Y_test, comp_lr.predict(X_test)), '.3f')\n",
    "print(\"\\nMean Squared Error: \", mae)\n",
    "X_train.columns"
   ]
  },
  {
   "cell_type": "code",
   "execution_count": 145,
   "metadata": {},
   "outputs": [
    {
     "data": {
      "text/plain": [
       "array([0.7263563 , 0.70239036, 0.24593792, 0.62957439, 0.4453903 ,\n",
       "       0.71238053, 0.61992123, 0.48227726, 0.68781616, 0.87463912])"
      ]
     },
     "execution_count": 145,
     "metadata": {},
     "output_type": "execute_result"
    }
   ],
   "source": [
    "pca_cross = cross_val_score(comp_lr, X_dummy_pca, Y, cv=10)\n",
    "pca_cross"
   ]
  },
  {
   "cell_type": "code",
   "execution_count": 146,
   "metadata": {},
   "outputs": [
    {
     "data": {
      "image/png": "[encoded data removed]",
      "text/plain": [
       "<Figure size 720x360 with 1 Axes>"
      ]
     },
     "metadata": {},
     "output_type": "display_data"
    }
   ],
   "source": [
    "predicted = comp_lr.predict(X_dummy_pca)\n",
    "residual = Y - predicted\n",
    "plt.figure(figsize=(10,5))\n",
    "plt.scatter(predicted, residual)\n",
    "plt.xlabel(\"Predicted\")\n",
    "plt.ylabel(\"Residual\")\n",
    "plt.title(\"Spread of Model Error\")\n",
    "\n",
    "plt.show()"
   ]
  },
  {
   "cell_type": "code",
   "execution_count": 147,
   "metadata": {},
   "outputs": [
    {
     "data": {
      "image/png": "[encoded data removed]",
      "text/plain": [
       "<Figure size 432x288 with 1 Axes>"
      ]
     },
     "metadata": {},
     "output_type": "display_data"
    }
   ],
   "source": [
    "plt.hist(residual)\n",
    "plt.xlabel(\"Residual\")\n",
    "plt.show()"
   ]
  },
  {
   "cell_type": "code",
   "execution_count": 148,
   "metadata": {},
   "outputs": [
    {
     "data": {
      "text/html": [
       "<div>\n",
       "<style scoped>\n",
       "    .dataframe tbody tr th:only-of-type {\n",
       "        vertical-align: middle;\n",
       "    }\n",
       "\n",
       "    .dataframe tbody tr th {\n",
       "        vertical-align: top;\n",
       "    }\n",
       "\n",
       "    .dataframe thead th {\n",
       "        text-align: right;\n",
       "    }\n",
       "</style>\n",
       "<table border=\"1\" class=\"dataframe\">\n",
       "  <thead>\n",
       "    <tr style=\"text-align: right;\">\n",
       "      <th></th>\n",
       "      <th>Model</th>\n",
       "      <th>Mean Absolute Error (MAE)</th>\n",
       "      <th>CrossVal Score (avg)</th>\n",
       "      <th>CrossVal variance</th>\n",
       "    </tr>\n",
       "  </thead>\n",
       "  <tbody>\n",
       "    <tr>\n",
       "      <th>0</th>\n",
       "      <td>Simple Linear Model</td>\n",
       "      <td>210970.861</td>\n",
       "      <td>0.543365</td>\n",
       "      <td>0.199835</td>\n",
       "    </tr>\n",
       "    <tr>\n",
       "      <th>1</th>\n",
       "      <td>Multivariable Regression (non-PCA)</td>\n",
       "      <td>171711.148</td>\n",
       "      <td>0.667089</td>\n",
       "      <td>0.135358</td>\n",
       "    </tr>\n",
       "    <tr>\n",
       "      <th>2</th>\n",
       "      <td>Multivariable Regression (PCA feats)</td>\n",
       "      <td>194007.743</td>\n",
       "      <td>0.612668</td>\n",
       "      <td>0.168821</td>\n",
       "    </tr>\n",
       "    <tr>\n",
       "      <th>3</th>\n",
       "      <td>NaN</td>\n",
       "      <td>NaN</td>\n",
       "      <td>NaN</td>\n",
       "      <td>NaN</td>\n",
       "    </tr>\n",
       "  </tbody>\n",
       "</table>\n",
       "</div>"
      ],
      "text/plain": [
       "                                  Model Mean Absolute Error (MAE)  \\\n",
       "0                   Simple Linear Model                210970.861   \n",
       "1    Multivariable Regression (non-PCA)                171711.148   \n",
       "2  Multivariable Regression (PCA feats)                194007.743   \n",
       "3                                   NaN                       NaN   \n",
       "\n",
       "  CrossVal Score (avg) CrossVal variance  \n",
       "0             0.543365          0.199835  \n",
       "1             0.667089          0.135358  \n",
       "2             0.612668          0.168821  \n",
       "3                  NaN               NaN  "
      ]
     },
     "execution_count": 148,
     "metadata": {},
     "output_type": "execute_result"
    }
   ],
   "source": [
    "evaluation.iloc[2] = ['Multivariable Regression (PCA feats)', mae, pca_cross.mean(), pca_cross.std()]\n",
    "evaluation"
   ]
  },
  {
   "cell_type": "markdown",
   "metadata": {},
   "source": [
    "#### Lasso Regression"
   ]
  },
  {
   "cell_type": "code",
   "execution_count": 149,
   "metadata": {},
   "outputs": [
    {
     "name": "stdout",
     "output_type": "stream",
     "text": [
      "Index([   'bedrooms',   'bathrooms', 'sqft_living',    'sqft_lot',\n",
      "            'floors',        'view',   'condition',       'grade',\n",
      "         'renovated',    'Basement',         98112],\n",
      "      dtype='object')\n",
      "\n",
      "20% sample score:  0.5193377857540366\n",
      "\n",
      "Coefficients:  [-14804.97985744  31130.53698107 143123.13172069  70600.37735599\n",
      "  -1819.53843617 -31387.44479325  44437.85604865 117384.44351563\n",
      "   8965.62548806 -16505.22066708 899495.92358674]\n",
      "\n",
      "Mean Absolute Error:  193053.918\n"
     ]
    }
   ],
   "source": [
    "from sklearn.linear_model import Lasso\n",
    "#Lets try to do lasso without the pca to see if we can get some interpretability\n",
    "X_train, X_test, Y_train, Y_test = train_test_split(X_scaled, Y, test_size=.2, random_state=10)\n",
    "lasso = Lasso(alpha=.0001, fit_intercept=False, random_state=123, max_iter=5000, tol=.0001)\n",
    "#try different lambdas\n",
    "lasso.fit(X_train, Y_train)\n",
    "print(X_scaled.columns)\n",
    "print(\"\\n20% sample score: \", lasso.score(X_test, Y_test))\n",
    "print(\"\\nCoefficients: \", lasso.coef_)\n",
    "\n",
    "mae = format(metrics.mean_absolute_error(Y_test, lasso.predict(X_test)), '.3f')\n",
    "print(\"\\nMean Absolute Error: \", mae)\n",
    "#convert into scientific notation for better interpretability"
   ]
  },
  {
   "cell_type": "code",
   "execution_count": 150,
   "metadata": {},
   "outputs": [
    {
     "data": {
      "image/png": "[encoded data removed]",
      "text/plain": [
       "<Figure size 720x360 with 1 Axes>"
      ]
     },
     "metadata": {},
     "output_type": "display_data"
    }
   ],
   "source": [
    "predicted = lasso.predict(X_scaled)\n",
    "residual = Y - predicted\n",
    "plt.figure(figsize=(10,5))\n",
    "plt.scatter(predicted, residual)\n",
    "plt.xlabel(\"Predicted\")\n",
    "plt.ylabel(\"Residual\")\n",
    "plt.title(\"Spread of Model Error (Lasso)\")\n",
    "plt.show()\n",
    "#Error distribution is not even, so a better model is needed"
   ]
  },
  {
   "cell_type": "code",
   "execution_count": 151,
   "metadata": {},
   "outputs": [
    {
     "data": {
      "image/png": "[encoded data removed]",
      "text/plain": [
       "<Figure size 432x288 with 1 Axes>"
      ]
     },
     "metadata": {},
     "output_type": "display_data"
    }
   ],
   "source": [
    "plt.hist(residual)\n",
    "plt.xlabel(\"Residual\")\n",
    "plt.show()"
   ]
  },
  {
   "cell_type": "code",
   "execution_count": 152,
   "metadata": {},
   "outputs": [
    {
     "data": {
      "text/plain": [
       "array([0.77108827, 0.77529907, 0.44412283, 0.69505068, 0.51118829,\n",
       "       0.70824685, 0.62576252, 0.5237275 , 0.70305706, 0.9133484 ])"
      ]
     },
     "execution_count": 152,
     "metadata": {},
     "output_type": "execute_result"
    }
   ],
   "source": [
    "lass_cross = cross_val_score(lasso, X_scaled, Y, cv=10)\n",
    "lass_cross"
   ]
  },
  {
   "cell_type": "code",
   "execution_count": 153,
   "metadata": {},
   "outputs": [
    {
     "data": {
      "text/html": [
       "<div>\n",
       "<style scoped>\n",
       "    .dataframe tbody tr th:only-of-type {\n",
       "        vertical-align: middle;\n",
       "    }\n",
       "\n",
       "    .dataframe tbody tr th {\n",
       "        vertical-align: top;\n",
       "    }\n",
       "\n",
       "    .dataframe thead th {\n",
       "        text-align: right;\n",
       "    }\n",
       "</style>\n",
       "<table border=\"1\" class=\"dataframe\">\n",
       "  <thead>\n",
       "    <tr style=\"text-align: right;\">\n",
       "      <th></th>\n",
       "      <th>Model</th>\n",
       "      <th>Mean Absolute Error (MAE)</th>\n",
       "      <th>CrossVal Score (avg)</th>\n",
       "      <th>CrossVal variance</th>\n",
       "    </tr>\n",
       "  </thead>\n",
       "  <tbody>\n",
       "    <tr>\n",
       "      <th>0</th>\n",
       "      <td>Simple Linear Model</td>\n",
       "      <td>210970.861</td>\n",
       "      <td>0.543365</td>\n",
       "      <td>0.199835</td>\n",
       "    </tr>\n",
       "    <tr>\n",
       "      <th>1</th>\n",
       "      <td>Multivariable Regression (non-PCA)</td>\n",
       "      <td>171711.148</td>\n",
       "      <td>0.667089</td>\n",
       "      <td>0.135358</td>\n",
       "    </tr>\n",
       "    <tr>\n",
       "      <th>2</th>\n",
       "      <td>Multivariable Regression (PCA feats)</td>\n",
       "      <td>194007.743</td>\n",
       "      <td>0.612668</td>\n",
       "      <td>0.168821</td>\n",
       "    </tr>\n",
       "    <tr>\n",
       "      <th>3</th>\n",
       "      <td>Lasso</td>\n",
       "      <td>193053.918</td>\n",
       "      <td>0.667089</td>\n",
       "      <td>0.135358</td>\n",
       "    </tr>\n",
       "  </tbody>\n",
       "</table>\n",
       "</div>"
      ],
      "text/plain": [
       "                                  Model Mean Absolute Error (MAE)  \\\n",
       "0                   Simple Linear Model                210970.861   \n",
       "1    Multivariable Regression (non-PCA)                171711.148   \n",
       "2  Multivariable Regression (PCA feats)                194007.743   \n",
       "3                                 Lasso                193053.918   \n",
       "\n",
       "  CrossVal Score (avg) CrossVal variance  \n",
       "0             0.543365          0.199835  \n",
       "1             0.667089          0.135358  \n",
       "2             0.612668          0.168821  \n",
       "3             0.667089          0.135358  "
      ]
     },
     "execution_count": 153,
     "metadata": {},
     "output_type": "execute_result"
    }
   ],
   "source": [
    "evaluation.iloc[3] = ['Lasso', mae, lass_cross.mean(), lass_cross.std()]\n",
    "evaluation"
   ]
  },
  {
   "cell_type": "markdown",
   "metadata": {},
   "source": [
    "### Final evaluation of model choice"
   ]
  },
  {
   "cell_type": "code",
   "execution_count": 154,
   "metadata": {},
   "outputs": [
    {
     "data": {
      "text/html": [
       "<div>\n",
       "<style scoped>\n",
       "    .dataframe tbody tr th:only-of-type {\n",
       "        vertical-align: middle;\n",
       "    }\n",
       "\n",
       "    .dataframe tbody tr th {\n",
       "        vertical-align: top;\n",
       "    }\n",
       "\n",
       "    .dataframe thead th {\n",
       "        text-align: right;\n",
       "    }\n",
       "</style>\n",
       "<table border=\"1\" class=\"dataframe\">\n",
       "  <thead>\n",
       "    <tr style=\"text-align: right;\">\n",
       "      <th></th>\n",
       "      <th>Model</th>\n",
       "      <th>Mean Absolute Error (MAE)</th>\n",
       "      <th>CrossVal Score (avg)</th>\n",
       "      <th>CrossVal variance</th>\n",
       "    </tr>\n",
       "  </thead>\n",
       "  <tbody>\n",
       "    <tr>\n",
       "      <th>0</th>\n",
       "      <td>Simple Linear Model</td>\n",
       "      <td>210970.861</td>\n",
       "      <td>0.543365</td>\n",
       "      <td>0.199835</td>\n",
       "    </tr>\n",
       "    <tr>\n",
       "      <th>1</th>\n",
       "      <td>Multivariable Regression (PCA feats)</td>\n",
       "      <td>194007.743</td>\n",
       "      <td>0.612668</td>\n",
       "      <td>0.168821</td>\n",
       "    </tr>\n",
       "    <tr>\n",
       "      <th>2</th>\n",
       "      <td>Multivariable Regression (non-PCA)</td>\n",
       "      <td>171711.148</td>\n",
       "      <td>0.667089</td>\n",
       "      <td>0.135358</td>\n",
       "    </tr>\n",
       "    <tr>\n",
       "      <th>3</th>\n",
       "      <td>Lasso</td>\n",
       "      <td>193053.918</td>\n",
       "      <td>0.667089</td>\n",
       "      <td>0.135358</td>\n",
       "    </tr>\n",
       "  </tbody>\n",
       "</table>\n",
       "</div>"
      ],
      "text/plain": [
       "                                  Model Mean Absolute Error (MAE)  \\\n",
       "0                   Simple Linear Model                210970.861   \n",
       "1  Multivariable Regression (PCA feats)                194007.743   \n",
       "2    Multivariable Regression (non-PCA)                171711.148   \n",
       "3                                 Lasso                193053.918   \n",
       "\n",
       "  CrossVal Score (avg) CrossVal variance  \n",
       "0             0.543365          0.199835  \n",
       "1             0.612668          0.168821  \n",
       "2             0.667089          0.135358  \n",
       "3             0.667089          0.135358  "
      ]
     },
     "execution_count": 154,
     "metadata": {},
     "output_type": "execute_result"
    }
   ],
   "source": [
    "evaluation.iloc[np.argsort(evaluation['CrossVal Score (avg)'])].reset_index(drop=True)"
   ]
  },
  {
   "cell_type": "markdown",
   "metadata": {},
   "source": [
    "## Results and Discussion <a name=\"results\"></a>"
   ]
  },
  {
   "cell_type": "markdown",
   "metadata": {},
   "source": [
    "Our analysis shows that how a settler to chose a place and he should pay how much for a new house in Seattle . Highest concentration of area was detected Madison Park, so we focused our attention to areas north, north-east and east, corresponding to neighborhood Madison Park. Magnolia was identified as potentially interesting (north-west from Madison Park), but our attention was focused on Madison Park which is an upscale residential community with a number of restaurants and eateries.\n",
    "\n",
    "After directing our attention to this more narrow area of interest ; those locations were then filtered so that those with less than one schools in radius of 1km and those with at least two park 2km were removed.\n",
    "\n",
    "From the house price predict models. The Multivariable Regression (non-PCA)\tseems quite efficient. Proportionate increase in living quality('bedrooms','bathrooms','floors','grade','sqft') lead to increase in price more linearly. Model seems to be better at estimating prices rather than predicting them.  \n",
    "\n",
    "Specific property types not included, only sales from one year, so estimations do not account for inflation."
   ]
  },
  {
   "cell_type": "markdown",
   "metadata": {},
   "source": [
    "## Conclusion <a name=\"conclusion\"></a>"
   ]
  },
  {
   "cell_type": "markdown",
   "metadata": {},
   "source": [
    "Purpose of this project was to to find an optimal area for a new comer to settle down in Seattle Specifically, this report will be targeted to the settlers with their family. Also we weill simply estimate the house price in the proper area to give the settlers some idea to find a house. By calculating crime records and some public facilitie, and then generated a proper exact area to statisfy.\n",
    "\n",
    "Final decission on predicting the house price will be made by previous local sales data based on specific characteristics of neighborhoods and locations, taking into consideration additional factors like having waterfront each location (proximity to park or water), levels of noise / proximity to major roads, real estate availability, prices, social and economic dynamics of every neighborhood etc."
   ]
  },
  {
   "cell_type": "code",
   "execution_count": null,
   "metadata": {},
   "outputs": [],
   "source": []
  }
 ],
 "metadata": {
  "kernelspec": {
   "display_name": "Python 3",
   "language": "python",
   "name": "python3"
  },
  "language_info": {
   "codemirror_mode": {
    "name": "ipython",
    "version": 3
   },
   "file_extension": ".py",
   "mimetype": "text/x-python",
   "name": "python",
   "nbconvert_exporter": "python",
   "pygments_lexer": "ipython3",
   "version": "3.7.3"
  },
  "toc": {
   "base_numbering": 1,
   "nav_menu": {},
   "number_sections": true,
   "sideBar": true,
   "skip_h1_title": false,
   "title_cell": "Table of Contents",
   "title_sidebar": "Contents",
   "toc_cell": false,
   "toc_position": {},
   "toc_section_display": true,
   "toc_window_display": false
  }
 },
 "nbformat": 4,
 "nbformat_minor": 1
}
